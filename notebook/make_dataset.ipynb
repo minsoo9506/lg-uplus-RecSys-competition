{
 "cells": [
  {
   "cell_type": "code",
   "execution_count": 1,
   "metadata": {},
   "outputs": [],
   "source": [
    "# 패키지 로드\n",
    "import warnings\n",
    "warnings.filterwarnings('ignore')\n",
    "\n",
    "import numpy as np\n",
    "import pandas as pd\n",
    "from tqdm.notebook import tqdm\n",
    "from sklearn.model_selection import train_test_split\n",
    "from collections import defaultdict\n",
    "import os, random\n",
    "\n",
    "from scipy import sparse\n",
    "from sklearn.preprocessing import LabelEncoder\n",
    "import matplotlib.pyplot as plt\n",
    "\n",
    "import torch\n",
    "import torch.nn as nn\n",
    "import torch.nn.functional as F\n",
    "from torch.utils.data import Dataset"
   ]
  },
  {
   "cell_type": "code",
   "execution_count": 53,
   "metadata": {},
   "outputs": [],
   "source": [
    "# 하이퍼파라미터 \n",
    "class config: \n",
    "    gpu_idx = 0\n",
    "    device = torch.device(\"cuda:{}\".format(gpu_idx) if torch.cuda.is_available() else \"cpu\")\n",
    "    top_k = 25\n",
    "    seed = 42\n",
    "    neg_ratio = 1\n",
    "    test_size = 0.2"
   ]
  },
  {
   "cell_type": "code",
   "execution_count": 3,
   "metadata": {},
   "outputs": [],
   "source": [
    "# 시드 고정 \n",
    "def seed_everything(random_seed):\n",
    "    torch.manual_seed(random_seed)\n",
    "    torch.cuda.manual_seed(random_seed)\n",
    "    torch.cuda.manual_seed_all(random_seed)\n",
    "    torch.backends.cudnn.deterministic = True\n",
    "    torch.backends.cudnn.benchmark = False\n",
    "    np.random.seed(random_seed)\n",
    "    random.seed(random_seed)\n",
    "    \n",
    "seed_everything(config.seed)"
   ]
  },
  {
   "cell_type": "markdown",
   "metadata": {},
   "source": [
    "# data 불러오기"
   ]
  },
  {
   "cell_type": "code",
   "execution_count": 4,
   "metadata": {},
   "outputs": [],
   "source": [
    "history = pd.read_csv('../data/history_data.csv')\n",
    "meta = pd.read_csv('../data/meta_data.csv')\n",
    "profile = pd.read_csv('../data/profile_data.csv')"
   ]
  },
  {
   "cell_type": "code",
   "execution_count": 5,
   "metadata": {},
   "outputs": [
    {
     "data": {
      "text/html": [
       "<div>\n",
       "<style scoped>\n",
       "    .dataframe tbody tr th:only-of-type {\n",
       "        vertical-align: middle;\n",
       "    }\n",
       "\n",
       "    .dataframe tbody tr th {\n",
       "        vertical-align: top;\n",
       "    }\n",
       "\n",
       "    .dataframe thead th {\n",
       "        text-align: right;\n",
       "    }\n",
       "</style>\n",
       "<table border=\"1\" class=\"dataframe\">\n",
       "  <thead>\n",
       "    <tr style=\"text-align: right;\">\n",
       "      <th></th>\n",
       "      <th>album_id</th>\n",
       "      <th>title</th>\n",
       "      <th>sub_title</th>\n",
       "      <th>genre_large</th>\n",
       "      <th>genre_mid</th>\n",
       "      <th>genre_small</th>\n",
       "      <th>country</th>\n",
       "      <th>run_time</th>\n",
       "      <th>onair_date</th>\n",
       "      <th>cast_1</th>\n",
       "      <th>cast_2</th>\n",
       "      <th>cast_3</th>\n",
       "      <th>cast_4</th>\n",
       "      <th>cast_5</th>\n",
       "      <th>cast_6</th>\n",
       "      <th>cast_7</th>\n",
       "    </tr>\n",
       "  </thead>\n",
       "  <tbody>\n",
       "    <tr>\n",
       "      <th>0</th>\n",
       "      <td>749</td>\n",
       "      <td>어둠이 무서워요</td>\n",
       "      <td>꼬마버스 타요1</td>\n",
       "      <td>키즈</td>\n",
       "      <td>TV만화</td>\n",
       "      <td>NaN</td>\n",
       "      <td>한국</td>\n",
       "      <td>660</td>\n",
       "      <td>NaN</td>\n",
       "      <td>타요</td>\n",
       "      <td>로기</td>\n",
       "      <td>라니</td>\n",
       "      <td>가니</td>\n",
       "      <td>시투</td>\n",
       "      <td>NaN</td>\n",
       "      <td>NaN</td>\n",
       "    </tr>\n",
       "    <tr>\n",
       "      <th>1</th>\n",
       "      <td>750</td>\n",
       "      <td>우리는 친구</td>\n",
       "      <td>꼬마버스 타요1</td>\n",
       "      <td>키즈</td>\n",
       "      <td>TV만화</td>\n",
       "      <td>NaN</td>\n",
       "      <td>한국</td>\n",
       "      <td>660</td>\n",
       "      <td>NaN</td>\n",
       "      <td>타요</td>\n",
       "      <td>로기</td>\n",
       "      <td>라니</td>\n",
       "      <td>가니</td>\n",
       "      <td>시투</td>\n",
       "      <td>NaN</td>\n",
       "      <td>NaN</td>\n",
       "    </tr>\n",
       "    <tr>\n",
       "      <th>2</th>\n",
       "      <td>2131</td>\n",
       "      <td>타요의 첫 운행</td>\n",
       "      <td>꼬마버스 타요1</td>\n",
       "      <td>키즈</td>\n",
       "      <td>TV만화</td>\n",
       "      <td>NaN</td>\n",
       "      <td>한국</td>\n",
       "      <td>660</td>\n",
       "      <td>NaN</td>\n",
       "      <td>타요</td>\n",
       "      <td>로기</td>\n",
       "      <td>라니</td>\n",
       "      <td>가니</td>\n",
       "      <td>시투</td>\n",
       "      <td>NaN</td>\n",
       "      <td>NaN</td>\n",
       "    </tr>\n",
       "    <tr>\n",
       "      <th>3</th>\n",
       "      <td>2625</td>\n",
       "      <td>길 잃은 타요</td>\n",
       "      <td>꼬마버스 타요1</td>\n",
       "      <td>키즈</td>\n",
       "      <td>TV만화</td>\n",
       "      <td>NaN</td>\n",
       "      <td>한국</td>\n",
       "      <td>660</td>\n",
       "      <td>NaN</td>\n",
       "      <td>타요</td>\n",
       "      <td>로기</td>\n",
       "      <td>라니</td>\n",
       "      <td>가니</td>\n",
       "      <td>시투</td>\n",
       "      <td>NaN</td>\n",
       "      <td>NaN</td>\n",
       "    </tr>\n",
       "    <tr>\n",
       "      <th>4</th>\n",
       "      <td>2594</td>\n",
       "      <td>새내기 꼬마 버스의 하루</td>\n",
       "      <td>꼬마버스 타요1</td>\n",
       "      <td>키즈</td>\n",
       "      <td>TV만화</td>\n",
       "      <td>NaN</td>\n",
       "      <td>한국</td>\n",
       "      <td>660</td>\n",
       "      <td>NaN</td>\n",
       "      <td>타요</td>\n",
       "      <td>로기</td>\n",
       "      <td>라니</td>\n",
       "      <td>가니</td>\n",
       "      <td>시투</td>\n",
       "      <td>NaN</td>\n",
       "      <td>NaN</td>\n",
       "    </tr>\n",
       "  </tbody>\n",
       "</table>\n",
       "</div>"
      ],
      "text/plain": [
       "   album_id          title sub_title genre_large genre_mid genre_small  \\\n",
       "0       749       어둠이 무서워요  꼬마버스 타요1          키즈      TV만화         NaN   \n",
       "1       750         우리는 친구  꼬마버스 타요1          키즈      TV만화         NaN   \n",
       "2      2131       타요의 첫 운행  꼬마버스 타요1          키즈      TV만화         NaN   \n",
       "3      2625        길 잃은 타요  꼬마버스 타요1          키즈      TV만화         NaN   \n",
       "4      2594  새내기 꼬마 버스의 하루  꼬마버스 타요1          키즈      TV만화         NaN   \n",
       "\n",
       "  country  run_time  onair_date cast_1 cast_2 cast_3 cast_4 cast_5 cast_6  \\\n",
       "0      한국       660         NaN     타요     로기     라니     가니     시투    NaN   \n",
       "1      한국       660         NaN     타요     로기     라니     가니     시투    NaN   \n",
       "2      한국       660         NaN     타요     로기     라니     가니     시투    NaN   \n",
       "3      한국       660         NaN     타요     로기     라니     가니     시투    NaN   \n",
       "4      한국       660         NaN     타요     로기     라니     가니     시투    NaN   \n",
       "\n",
       "  cast_7  \n",
       "0    NaN  \n",
       "1    NaN  \n",
       "2    NaN  \n",
       "3    NaN  \n",
       "4    NaN  "
      ]
     },
     "execution_count": 5,
     "metadata": {},
     "output_type": "execute_result"
    }
   ],
   "source": [
    "meta.head()"
   ]
  },
  {
   "cell_type": "markdown",
   "metadata": {},
   "source": [
    "- `genre_large`, `genre_mid` 컬럼 사용"
   ]
  },
  {
   "cell_type": "code",
   "execution_count": 6,
   "metadata": {},
   "outputs": [
    {
     "data": {
      "text/plain": [
       "(42602, 16)"
      ]
     },
     "execution_count": 6,
     "metadata": {},
     "output_type": "execute_result"
    }
   ],
   "source": [
    "meta.shape"
   ]
  },
  {
   "cell_type": "code",
   "execution_count": 7,
   "metadata": {},
   "outputs": [
    {
     "data": {
      "text/plain": [
       "(39875, 3)"
      ]
     },
     "execution_count": 7,
     "metadata": {},
     "output_type": "execute_result"
    }
   ],
   "source": [
    "meta[['album_id','genre_large','genre_mid']].drop_duplicates(['album_id','genre_large','genre_mid']).shape"
   ]
  },
  {
   "cell_type": "code",
   "execution_count": 8,
   "metadata": {},
   "outputs": [
    {
     "data": {
      "text/plain": [
       "(39875, 3)"
      ]
     },
     "execution_count": 8,
     "metadata": {},
     "output_type": "execute_result"
    }
   ],
   "source": [
    "meta[['album_id','genre_large','genre_mid']].drop_duplicates(['album_id']).shape"
   ]
  },
  {
   "cell_type": "code",
   "execution_count": 9,
   "metadata": {},
   "outputs": [],
   "source": [
    "meta_use = meta[['album_id','genre_large','genre_mid']].drop_duplicates(['album_id'])"
   ]
  },
  {
   "cell_type": "code",
   "execution_count": 10,
   "metadata": {},
   "outputs": [
    {
     "data": {
      "text/html": [
       "<div>\n",
       "<style scoped>\n",
       "    .dataframe tbody tr th:only-of-type {\n",
       "        vertical-align: middle;\n",
       "    }\n",
       "\n",
       "    .dataframe tbody tr th {\n",
       "        vertical-align: top;\n",
       "    }\n",
       "\n",
       "    .dataframe thead th {\n",
       "        text-align: right;\n",
       "    }\n",
       "</style>\n",
       "<table border=\"1\" class=\"dataframe\">\n",
       "  <thead>\n",
       "    <tr style=\"text-align: right;\">\n",
       "      <th></th>\n",
       "      <th>profile_id</th>\n",
       "      <th>sex</th>\n",
       "      <th>age</th>\n",
       "      <th>pr_interest_keyword_cd_1</th>\n",
       "      <th>pr_interest_keyword_cd_2</th>\n",
       "      <th>pr_interest_keyword_cd_3</th>\n",
       "      <th>ch_interest_keyword_cd_1</th>\n",
       "      <th>ch_interest_keyword_cd_2</th>\n",
       "      <th>ch_interest_keyword_cd_3</th>\n",
       "    </tr>\n",
       "  </thead>\n",
       "  <tbody>\n",
       "    <tr>\n",
       "      <th>0</th>\n",
       "      <td>3</td>\n",
       "      <td>F</td>\n",
       "      <td>5</td>\n",
       "      <td>P02</td>\n",
       "      <td>P04</td>\n",
       "      <td>P07</td>\n",
       "      <td>K01</td>\n",
       "      <td>K03</td>\n",
       "      <td>K04</td>\n",
       "    </tr>\n",
       "    <tr>\n",
       "      <th>1</th>\n",
       "      <td>5</td>\n",
       "      <td>M</td>\n",
       "      <td>5</td>\n",
       "      <td>P07</td>\n",
       "      <td>P08</td>\n",
       "      <td>P06</td>\n",
       "      <td>K05</td>\n",
       "      <td>K08</td>\n",
       "      <td>K09</td>\n",
       "    </tr>\n",
       "    <tr>\n",
       "      <th>2</th>\n",
       "      <td>7</td>\n",
       "      <td>F</td>\n",
       "      <td>9</td>\n",
       "      <td>P05</td>\n",
       "      <td>P03</td>\n",
       "      <td>NaN</td>\n",
       "      <td>K06</td>\n",
       "      <td>K04</td>\n",
       "      <td>NaN</td>\n",
       "    </tr>\n",
       "    <tr>\n",
       "      <th>3</th>\n",
       "      <td>12</td>\n",
       "      <td>M</td>\n",
       "      <td>6</td>\n",
       "      <td>P03</td>\n",
       "      <td>P06</td>\n",
       "      <td>P02</td>\n",
       "      <td>K09</td>\n",
       "      <td>K07</td>\n",
       "      <td>K03</td>\n",
       "    </tr>\n",
       "    <tr>\n",
       "      <th>4</th>\n",
       "      <td>16</td>\n",
       "      <td>F</td>\n",
       "      <td>12</td>\n",
       "      <td>P03</td>\n",
       "      <td>P06</td>\n",
       "      <td>P01</td>\n",
       "      <td>K01</td>\n",
       "      <td>K06</td>\n",
       "      <td>K04</td>\n",
       "    </tr>\n",
       "  </tbody>\n",
       "</table>\n",
       "</div>"
      ],
      "text/plain": [
       "   profile_id sex  age pr_interest_keyword_cd_1 pr_interest_keyword_cd_2  \\\n",
       "0           3   F    5                      P02                      P04   \n",
       "1           5   M    5                      P07                      P08   \n",
       "2           7   F    9                      P05                      P03   \n",
       "3          12   M    6                      P03                      P06   \n",
       "4          16   F   12                      P03                      P06   \n",
       "\n",
       "  pr_interest_keyword_cd_3 ch_interest_keyword_cd_1 ch_interest_keyword_cd_2  \\\n",
       "0                      P07                      K01                      K03   \n",
       "1                      P06                      K05                      K08   \n",
       "2                      NaN                      K06                      K04   \n",
       "3                      P02                      K09                      K07   \n",
       "4                      P01                      K01                      K06   \n",
       "\n",
       "  ch_interest_keyword_cd_3  \n",
       "0                      K04  \n",
       "1                      K09  \n",
       "2                      NaN  \n",
       "3                      K03  \n",
       "4                      K04  "
      ]
     },
     "execution_count": 10,
     "metadata": {},
     "output_type": "execute_result"
    }
   ],
   "source": [
    "profile.head()"
   ]
  },
  {
   "cell_type": "markdown",
   "metadata": {},
   "source": [
    "- `sex`, `age`, `pr_interest_keyword_cd_1`, `ch_interest_keyword_cd_1` 컬럼 사용"
   ]
  },
  {
   "cell_type": "code",
   "execution_count": 11,
   "metadata": {},
   "outputs": [
    {
     "data": {
      "text/plain": [
       "(8311, 9)"
      ]
     },
     "execution_count": 11,
     "metadata": {},
     "output_type": "execute_result"
    }
   ],
   "source": [
    "profile.shape"
   ]
  },
  {
   "cell_type": "code",
   "execution_count": 12,
   "metadata": {},
   "outputs": [],
   "source": [
    "profile_use = profile[['profile_id','sex','age','pr_interest_keyword_cd_1','ch_interest_keyword_cd_1']]"
   ]
  },
  {
   "cell_type": "code",
   "execution_count": 13,
   "metadata": {},
   "outputs": [
    {
     "data": {
      "text/plain": [
       "(8311, 5)"
      ]
     },
     "execution_count": 13,
     "metadata": {},
     "output_type": "execute_result"
    }
   ],
   "source": [
    "profile_use.drop_duplicates().shape"
   ]
  },
  {
   "cell_type": "markdown",
   "metadata": {},
   "source": [
    "# data merge, 전처리"
   ]
  },
  {
   "cell_type": "code",
   "execution_count": 14,
   "metadata": {},
   "outputs": [],
   "source": [
    "# 데이터 전처리 (중복제거) \n",
    "history_use = history[['profile_id', 'log_time', 'album_id']]\\\n",
    "    .drop_duplicates(subset=['profile_id', 'album_id', 'log_time'])\\\n",
    "        .sort_values(by = ['profile_id', 'log_time']).reset_index(drop = True)\\\n",
    "            .drop('log_time', axis=1)"
   ]
  },
  {
   "cell_type": "code",
   "execution_count": 15,
   "metadata": {},
   "outputs": [
    {
     "name": "stdout",
     "output_type": "stream",
     "text": [
      "(899252, 2)\n"
     ]
    },
    {
     "data": {
      "text/html": [
       "<div>\n",
       "<style scoped>\n",
       "    .dataframe tbody tr th:only-of-type {\n",
       "        vertical-align: middle;\n",
       "    }\n",
       "\n",
       "    .dataframe tbody tr th {\n",
       "        vertical-align: top;\n",
       "    }\n",
       "\n",
       "    .dataframe thead th {\n",
       "        text-align: right;\n",
       "    }\n",
       "</style>\n",
       "<table border=\"1\" class=\"dataframe\">\n",
       "  <thead>\n",
       "    <tr style=\"text-align: right;\">\n",
       "      <th></th>\n",
       "      <th>profile_id</th>\n",
       "      <th>album_id</th>\n",
       "    </tr>\n",
       "  </thead>\n",
       "  <tbody>\n",
       "    <tr>\n",
       "      <th>0</th>\n",
       "      <td>3</td>\n",
       "      <td>15</td>\n",
       "    </tr>\n",
       "    <tr>\n",
       "      <th>1</th>\n",
       "      <td>3</td>\n",
       "      <td>16</td>\n",
       "    </tr>\n",
       "    <tr>\n",
       "      <th>2</th>\n",
       "      <td>3</td>\n",
       "      <td>17</td>\n",
       "    </tr>\n",
       "    <tr>\n",
       "      <th>3</th>\n",
       "      <td>3</td>\n",
       "      <td>18</td>\n",
       "    </tr>\n",
       "    <tr>\n",
       "      <th>4</th>\n",
       "      <td>3</td>\n",
       "      <td>19</td>\n",
       "    </tr>\n",
       "  </tbody>\n",
       "</table>\n",
       "</div>"
      ],
      "text/plain": [
       "   profile_id  album_id\n",
       "0           3        15\n",
       "1           3        16\n",
       "2           3        17\n",
       "3           3        18\n",
       "4           3        19"
      ]
     },
     "execution_count": 15,
     "metadata": {},
     "output_type": "execute_result"
    }
   ],
   "source": [
    "print(history_use.shape)\n",
    "history_use.head()"
   ]
  },
  {
   "cell_type": "code",
   "execution_count": 45,
   "metadata": {},
   "outputs": [],
   "source": [
    "# meta, profile 데이터 추가\n",
    "history_meta = pd.merge(history_use, meta_use, on='album_id', how='left')\n",
    "history_meta_profile = pd.merge(history_meta, profile_use, on='profile_id', how='left')"
   ]
  },
  {
   "cell_type": "code",
   "execution_count": 46,
   "metadata": {},
   "outputs": [
    {
     "name": "stdout",
     "output_type": "stream",
     "text": [
      "(899252, 8)\n"
     ]
    },
    {
     "data": {
      "text/html": [
       "<div>\n",
       "<style scoped>\n",
       "    .dataframe tbody tr th:only-of-type {\n",
       "        vertical-align: middle;\n",
       "    }\n",
       "\n",
       "    .dataframe tbody tr th {\n",
       "        vertical-align: top;\n",
       "    }\n",
       "\n",
       "    .dataframe thead th {\n",
       "        text-align: right;\n",
       "    }\n",
       "</style>\n",
       "<table border=\"1\" class=\"dataframe\">\n",
       "  <thead>\n",
       "    <tr style=\"text-align: right;\">\n",
       "      <th></th>\n",
       "      <th>profile_id</th>\n",
       "      <th>album_id</th>\n",
       "      <th>genre_large</th>\n",
       "      <th>genre_mid</th>\n",
       "      <th>sex</th>\n",
       "      <th>age</th>\n",
       "      <th>pr_interest_keyword_cd_1</th>\n",
       "      <th>ch_interest_keyword_cd_1</th>\n",
       "    </tr>\n",
       "  </thead>\n",
       "  <tbody>\n",
       "    <tr>\n",
       "      <th>0</th>\n",
       "      <td>3</td>\n",
       "      <td>15</td>\n",
       "      <td>키즈</td>\n",
       "      <td>노래율동</td>\n",
       "      <td>F</td>\n",
       "      <td>5</td>\n",
       "      <td>P02</td>\n",
       "      <td>K01</td>\n",
       "    </tr>\n",
       "    <tr>\n",
       "      <th>1</th>\n",
       "      <td>3</td>\n",
       "      <td>16</td>\n",
       "      <td>키즈</td>\n",
       "      <td>노래율동</td>\n",
       "      <td>F</td>\n",
       "      <td>5</td>\n",
       "      <td>P02</td>\n",
       "      <td>K01</td>\n",
       "    </tr>\n",
       "    <tr>\n",
       "      <th>2</th>\n",
       "      <td>3</td>\n",
       "      <td>17</td>\n",
       "      <td>키즈</td>\n",
       "      <td>노래율동</td>\n",
       "      <td>F</td>\n",
       "      <td>5</td>\n",
       "      <td>P02</td>\n",
       "      <td>K01</td>\n",
       "    </tr>\n",
       "    <tr>\n",
       "      <th>3</th>\n",
       "      <td>3</td>\n",
       "      <td>18</td>\n",
       "      <td>키즈</td>\n",
       "      <td>노래율동</td>\n",
       "      <td>F</td>\n",
       "      <td>5</td>\n",
       "      <td>P02</td>\n",
       "      <td>K01</td>\n",
       "    </tr>\n",
       "    <tr>\n",
       "      <th>4</th>\n",
       "      <td>3</td>\n",
       "      <td>19</td>\n",
       "      <td>키즈</td>\n",
       "      <td>노래율동</td>\n",
       "      <td>F</td>\n",
       "      <td>5</td>\n",
       "      <td>P02</td>\n",
       "      <td>K01</td>\n",
       "    </tr>\n",
       "  </tbody>\n",
       "</table>\n",
       "</div>"
      ],
      "text/plain": [
       "   profile_id  album_id genre_large genre_mid sex  age  \\\n",
       "0           3        15          키즈      노래율동   F    5   \n",
       "1           3        16          키즈      노래율동   F    5   \n",
       "2           3        17          키즈      노래율동   F    5   \n",
       "3           3        18          키즈      노래율동   F    5   \n",
       "4           3        19          키즈      노래율동   F    5   \n",
       "\n",
       "  pr_interest_keyword_cd_1 ch_interest_keyword_cd_1  \n",
       "0                      P02                      K01  \n",
       "1                      P02                      K01  \n",
       "2                      P02                      K01  \n",
       "3                      P02                      K01  \n",
       "4                      P02                      K01  "
      ]
     },
     "execution_count": 46,
     "metadata": {},
     "output_type": "execute_result"
    }
   ],
   "source": [
    "print(history_meta_profile.shape)\n",
    "history_meta_profile.head()"
   ]
  },
  {
   "cell_type": "code",
   "execution_count": 47,
   "metadata": {},
   "outputs": [],
   "source": [
    "# 시청 여부 추가\n",
    "history_meta_profile['ratings'] = 1"
   ]
  },
  {
   "cell_type": "code",
   "execution_count": 48,
   "metadata": {},
   "outputs": [],
   "source": [
    "user_to_index = {\n",
    "original: idx for idx, original in enumerate(history_meta_profile[\"profile_id\"].unique())\n",
    "}\n",
    "\n",
    "item_to_index = {\n",
    "original: idx for idx, original in enumerate(history_meta_profile[\"album_id\"].unique())\n",
    "}\n",
    "\n",
    "genre_large_to_index = {\n",
    "original: idx for idx, original in enumerate(history_meta_profile[\"genre_large\"].unique())\n",
    "}\n",
    "genre_mid_to_index = {\n",
    "original: idx for idx, original in enumerate(history_meta_profile[\"genre_mid\"].unique())\n",
    "}\n",
    "\n",
    "sex_to_index = {\n",
    "original: idx for idx, original in enumerate(history_meta_profile[\"sex\"].unique())\n",
    "}\n",
    "age_to_index = {\n",
    "original: idx for idx, original in enumerate(history_meta_profile[\"age\"].unique())\n",
    "}\n",
    "pr_interest_keyword_cd_1_to_index = {\n",
    "original: idx for idx, original in enumerate(history_meta_profile[\"pr_interest_keyword_cd_1\"].unique())\n",
    "}\n",
    "ch_interest_keyword_cd_1_to_index = {\n",
    "original: idx for idx, original in enumerate(history_meta_profile[\"ch_interest_keyword_cd_1\"].unique())\n",
    "}"
   ]
  },
  {
   "cell_type": "code",
   "execution_count": 63,
   "metadata": {},
   "outputs": [],
   "source": [
    "user_ids = history_meta_profile['profile_id'].unique()\n",
    "item_ids = history_meta_profile['album_id'].unique()"
   ]
  },
  {
   "cell_type": "code",
   "execution_count": 50,
   "metadata": {},
   "outputs": [
    {
     "name": "stdout",
     "output_type": "stream",
     "text": [
      "학습 데이터 크기: (719401, 9)\n",
      "검증 데이터 크기: (179851, 9)\n"
     ]
    }
   ],
   "source": [
    "# 학습 및 검증 데이터 분리\n",
    "train, valid = train_test_split(\n",
    "    history_meta_profile, test_size=config.test_size, random_state=config.seed,\n",
    ")\n",
    "print('학습 데이터 크기:', train.shape)\n",
    "print('검증 데이터 크기:', valid.shape)"
   ]
  },
  {
   "cell_type": "code",
   "execution_count": 51,
   "metadata": {},
   "outputs": [
    {
     "name": "stdout",
     "output_type": "stream",
     "text": [
      "valid에만 있는 유저의 수: 102\n",
      "valid에만 있는 아이템의 수: 775\n"
     ]
    }
   ],
   "source": [
    "n_only_valid_user = len(set(valid.iloc[:, 0]) - set(train.iloc[:, 0]))\n",
    "n_only_valid_item = len(set(valid.iloc[:, 1]) - set(train.iloc[:, 1]))\n",
    "\n",
    "print(f'valid에만 있는 유저의 수: {n_only_valid_user}')\n",
    "print(f'valid에만 있는 아이템의 수: {n_only_valid_item}')\n",
    "\n",
    "# 그래도 negative sampling하면 이 수는 줄어들 것이다"
   ]
  },
  {
   "cell_type": "code",
   "execution_count": 52,
   "metadata": {},
   "outputs": [
    {
     "data": {
      "text/html": [
       "<div>\n",
       "<style scoped>\n",
       "    .dataframe tbody tr th:only-of-type {\n",
       "        vertical-align: middle;\n",
       "    }\n",
       "\n",
       "    .dataframe tbody tr th {\n",
       "        vertical-align: top;\n",
       "    }\n",
       "\n",
       "    .dataframe thead th {\n",
       "        text-align: right;\n",
       "    }\n",
       "</style>\n",
       "<table border=\"1\" class=\"dataframe\">\n",
       "  <thead>\n",
       "    <tr style=\"text-align: right;\">\n",
       "      <th></th>\n",
       "      <th>profile_id</th>\n",
       "      <th>album_id</th>\n",
       "      <th>genre_large</th>\n",
       "      <th>genre_mid</th>\n",
       "      <th>sex</th>\n",
       "      <th>age</th>\n",
       "      <th>pr_interest_keyword_cd_1</th>\n",
       "      <th>ch_interest_keyword_cd_1</th>\n",
       "      <th>ratings</th>\n",
       "    </tr>\n",
       "  </thead>\n",
       "  <tbody>\n",
       "    <tr>\n",
       "      <th>80305</th>\n",
       "      <td>2367</td>\n",
       "      <td>3508</td>\n",
       "      <td>키즈</td>\n",
       "      <td>노래율동</td>\n",
       "      <td>F</td>\n",
       "      <td>3</td>\n",
       "      <td>P06</td>\n",
       "      <td>K01</td>\n",
       "      <td>1</td>\n",
       "    </tr>\n",
       "    <tr>\n",
       "      <th>566567</th>\n",
       "      <td>16852</td>\n",
       "      <td>1992</td>\n",
       "      <td>키즈</td>\n",
       "      <td>TV만화</td>\n",
       "      <td>F</td>\n",
       "      <td>5</td>\n",
       "      <td>P02</td>\n",
       "      <td>K08</td>\n",
       "      <td>1</td>\n",
       "    </tr>\n",
       "    <tr>\n",
       "      <th>553068</th>\n",
       "      <td>16213</td>\n",
       "      <td>2032</td>\n",
       "      <td>키즈</td>\n",
       "      <td>책</td>\n",
       "      <td>M</td>\n",
       "      <td>8</td>\n",
       "      <td>P01</td>\n",
       "      <td>K08</td>\n",
       "      <td>1</td>\n",
       "    </tr>\n",
       "    <tr>\n",
       "      <th>53822</th>\n",
       "      <td>1812</td>\n",
       "      <td>18</td>\n",
       "      <td>키즈</td>\n",
       "      <td>노래율동</td>\n",
       "      <td>M</td>\n",
       "      <td>3</td>\n",
       "      <td>P06</td>\n",
       "      <td>K01</td>\n",
       "      <td>1</td>\n",
       "    </tr>\n",
       "    <tr>\n",
       "      <th>52051</th>\n",
       "      <td>1729</td>\n",
       "      <td>6340</td>\n",
       "      <td>키즈</td>\n",
       "      <td>책</td>\n",
       "      <td>F</td>\n",
       "      <td>7</td>\n",
       "      <td>P02</td>\n",
       "      <td>K01</td>\n",
       "      <td>1</td>\n",
       "    </tr>\n",
       "  </tbody>\n",
       "</table>\n",
       "</div>"
      ],
      "text/plain": [
       "        profile_id  album_id genre_large genre_mid sex  age  \\\n",
       "80305         2367      3508          키즈      노래율동   F    3   \n",
       "566567       16852      1992          키즈      TV만화   F    5   \n",
       "553068       16213      2032          키즈         책   M    8   \n",
       "53822         1812        18          키즈      노래율동   M    3   \n",
       "52051         1729      6340          키즈         책   F    7   \n",
       "\n",
       "       pr_interest_keyword_cd_1 ch_interest_keyword_cd_1  ratings  \n",
       "80305                       P06                      K01        1  \n",
       "566567                      P02                      K08        1  \n",
       "553068                      P01                      K08        1  \n",
       "53822                       P06                      K01        1  \n",
       "52051                       P02                      K01        1  "
      ]
     },
     "execution_count": 52,
     "metadata": {},
     "output_type": "execute_result"
    }
   ],
   "source": [
    "train.head()"
   ]
  },
  {
   "cell_type": "markdown",
   "metadata": {},
   "source": [
    "# negative sampling 구현\n",
    "- 방법\n",
    "    - 각 유저별로 negative sample 추출\n",
    "    - 유저별 postive sample수에 비례하여서 negative sample 추출\n",
    "    - train data에만 negative sampling, valid에는 rating=1만 있음\n",
    "- sampling 방법\n",
    "    - random\n",
    "    - not random (popular에게 약간의 가중치)"
   ]
  },
  {
   "cell_type": "code",
   "execution_count": 98,
   "metadata": {},
   "outputs": [],
   "source": [
    "n_total_neg_samples = len(train) * config.neg_ratio"
   ]
  },
  {
   "cell_type": "code",
   "execution_count": 99,
   "metadata": {},
   "outputs": [],
   "source": [
    "neg_samples = np.zeros((n_total_neg_samples, train.shape[1]))\n",
    "neg_samples = pd.DataFrame(neg_samples)\n",
    "neg_samples.columns = train.columns"
   ]
  },
  {
   "cell_type": "code",
   "execution_count": 100,
   "metadata": {},
   "outputs": [],
   "source": [
    "idx = 0\n",
    "for id, other_features in train.groupby('profile_id'):\n",
    "    pos_samples = other_features['album_id'].values\n",
    "    n_neg_samples = len(pos_samples) * config.neg_ratio\n",
    "    neg_sample_candidates = list(set(item_ids) - set(pos_samples))\n",
    "    neg_item_ids = np.random.choice(neg_sample_candidates, min(n_neg_samples, len(neg_sample_candidates)),replace=False)\n",
    "    # 결과 넣기\n",
    "    neg_samples.iloc[idx:idx+n_neg_samples, 0] = id\n",
    "    neg_samples.iloc[idx:idx+n_neg_samples, 1:4] = meta_use.loc[meta_use['album_id'].isin(neg_item_ids), :].values\n",
    "    neg_samples.iloc[idx:idx+n_neg_samples, 4:-1] =  profile_use.loc[profile_use['profile_id'] == id, 'sex':].values\n",
    "    neg_samples.iloc[idx:idx+n_neg_samples, -1] = 0\n",
    "    # idx 수정\n",
    "    idx += n_neg_samples"
   ]
  },
  {
   "cell_type": "code",
   "execution_count": 101,
   "metadata": {},
   "outputs": [
    {
     "data": {
      "text/html": [
       "<div>\n",
       "<style scoped>\n",
       "    .dataframe tbody tr th:only-of-type {\n",
       "        vertical-align: middle;\n",
       "    }\n",
       "\n",
       "    .dataframe tbody tr th {\n",
       "        vertical-align: top;\n",
       "    }\n",
       "\n",
       "    .dataframe thead th {\n",
       "        text-align: right;\n",
       "    }\n",
       "</style>\n",
       "<table border=\"1\" class=\"dataframe\">\n",
       "  <thead>\n",
       "    <tr style=\"text-align: right;\">\n",
       "      <th></th>\n",
       "      <th>profile_id</th>\n",
       "      <th>album_id</th>\n",
       "      <th>genre_large</th>\n",
       "      <th>genre_mid</th>\n",
       "      <th>sex</th>\n",
       "      <th>age</th>\n",
       "      <th>pr_interest_keyword_cd_1</th>\n",
       "      <th>ch_interest_keyword_cd_1</th>\n",
       "      <th>ratings</th>\n",
       "    </tr>\n",
       "  </thead>\n",
       "  <tbody>\n",
       "    <tr>\n",
       "      <th>0</th>\n",
       "      <td>3.0</td>\n",
       "      <td>20917.0</td>\n",
       "      <td>키즈</td>\n",
       "      <td>놀이교실</td>\n",
       "      <td>F</td>\n",
       "      <td>5.0</td>\n",
       "      <td>P02</td>\n",
       "      <td>K01</td>\n",
       "      <td>0.0</td>\n",
       "    </tr>\n",
       "    <tr>\n",
       "      <th>1</th>\n",
       "      <td>3.0</td>\n",
       "      <td>15846.0</td>\n",
       "      <td>키즈</td>\n",
       "      <td>TV만화</td>\n",
       "      <td>F</td>\n",
       "      <td>5.0</td>\n",
       "      <td>P02</td>\n",
       "      <td>K01</td>\n",
       "      <td>0.0</td>\n",
       "    </tr>\n",
       "    <tr>\n",
       "      <th>2</th>\n",
       "      <td>3.0</td>\n",
       "      <td>22646.0</td>\n",
       "      <td>키즈</td>\n",
       "      <td>애니</td>\n",
       "      <td>F</td>\n",
       "      <td>5.0</td>\n",
       "      <td>P02</td>\n",
       "      <td>K01</td>\n",
       "      <td>0.0</td>\n",
       "    </tr>\n",
       "    <tr>\n",
       "      <th>3</th>\n",
       "      <td>3.0</td>\n",
       "      <td>5934.0</td>\n",
       "      <td>키즈</td>\n",
       "      <td>독서동화</td>\n",
       "      <td>F</td>\n",
       "      <td>5.0</td>\n",
       "      <td>P02</td>\n",
       "      <td>K01</td>\n",
       "      <td>0.0</td>\n",
       "    </tr>\n",
       "    <tr>\n",
       "      <th>4</th>\n",
       "      <td>3.0</td>\n",
       "      <td>10101.0</td>\n",
       "      <td>키즈</td>\n",
       "      <td>놀이교실</td>\n",
       "      <td>F</td>\n",
       "      <td>5.0</td>\n",
       "      <td>P02</td>\n",
       "      <td>K01</td>\n",
       "      <td>0.0</td>\n",
       "    </tr>\n",
       "  </tbody>\n",
       "</table>\n",
       "</div>"
      ],
      "text/plain": [
       "   profile_id  album_id genre_large genre_mid sex  age  \\\n",
       "0         3.0   20917.0          키즈      놀이교실   F  5.0   \n",
       "1         3.0   15846.0          키즈      TV만화   F  5.0   \n",
       "2         3.0   22646.0          키즈        애니   F  5.0   \n",
       "3         3.0    5934.0          키즈      독서동화   F  5.0   \n",
       "4         3.0   10101.0          키즈      놀이교실   F  5.0   \n",
       "\n",
       "  pr_interest_keyword_cd_1 ch_interest_keyword_cd_1  ratings  \n",
       "0                      P02                      K01      0.0  \n",
       "1                      P02                      K01      0.0  \n",
       "2                      P02                      K01      0.0  \n",
       "3                      P02                      K01      0.0  \n",
       "4                      P02                      K01      0.0  "
      ]
     },
     "execution_count": 101,
     "metadata": {},
     "output_type": "execute_result"
    }
   ],
   "source": [
    "neg_samples.head()"
   ]
  },
  {
   "cell_type": "code",
   "execution_count": 102,
   "metadata": {},
   "outputs": [
    {
     "data": {
      "text/html": [
       "<div>\n",
       "<style scoped>\n",
       "    .dataframe tbody tr th:only-of-type {\n",
       "        vertical-align: middle;\n",
       "    }\n",
       "\n",
       "    .dataframe tbody tr th {\n",
       "        vertical-align: top;\n",
       "    }\n",
       "\n",
       "    .dataframe thead th {\n",
       "        text-align: right;\n",
       "    }\n",
       "</style>\n",
       "<table border=\"1\" class=\"dataframe\">\n",
       "  <thead>\n",
       "    <tr style=\"text-align: right;\">\n",
       "      <th></th>\n",
       "      <th>profile_id</th>\n",
       "      <th>album_id</th>\n",
       "      <th>genre_large</th>\n",
       "      <th>genre_mid</th>\n",
       "      <th>sex</th>\n",
       "      <th>age</th>\n",
       "      <th>pr_interest_keyword_cd_1</th>\n",
       "      <th>ch_interest_keyword_cd_1</th>\n",
       "      <th>ratings</th>\n",
       "    </tr>\n",
       "  </thead>\n",
       "  <tbody>\n",
       "    <tr>\n",
       "      <th>719396</th>\n",
       "      <td>33032.0</td>\n",
       "      <td>8103.0</td>\n",
       "      <td>키즈</td>\n",
       "      <td>외국어</td>\n",
       "      <td>F</td>\n",
       "      <td>5.0</td>\n",
       "      <td>P03</td>\n",
       "      <td>K01</td>\n",
       "      <td>0.0</td>\n",
       "    </tr>\n",
       "    <tr>\n",
       "      <th>719397</th>\n",
       "      <td>33032.0</td>\n",
       "      <td>8124.0</td>\n",
       "      <td>키즈</td>\n",
       "      <td>외국어</td>\n",
       "      <td>F</td>\n",
       "      <td>5.0</td>\n",
       "      <td>P03</td>\n",
       "      <td>K01</td>\n",
       "      <td>0.0</td>\n",
       "    </tr>\n",
       "    <tr>\n",
       "      <th>719398</th>\n",
       "      <td>33032.0</td>\n",
       "      <td>10625.0</td>\n",
       "      <td>키즈</td>\n",
       "      <td>노래율동</td>\n",
       "      <td>F</td>\n",
       "      <td>5.0</td>\n",
       "      <td>P03</td>\n",
       "      <td>K01</td>\n",
       "      <td>0.0</td>\n",
       "    </tr>\n",
       "    <tr>\n",
       "      <th>719399</th>\n",
       "      <td>33032.0</td>\n",
       "      <td>4540.0</td>\n",
       "      <td>키즈</td>\n",
       "      <td>TV만화</td>\n",
       "      <td>F</td>\n",
       "      <td>5.0</td>\n",
       "      <td>P03</td>\n",
       "      <td>K01</td>\n",
       "      <td>0.0</td>\n",
       "    </tr>\n",
       "    <tr>\n",
       "      <th>719400</th>\n",
       "      <td>33032.0</td>\n",
       "      <td>14756.0</td>\n",
       "      <td>키즈</td>\n",
       "      <td>노래율동</td>\n",
       "      <td>F</td>\n",
       "      <td>5.0</td>\n",
       "      <td>P03</td>\n",
       "      <td>K01</td>\n",
       "      <td>0.0</td>\n",
       "    </tr>\n",
       "  </tbody>\n",
       "</table>\n",
       "</div>"
      ],
      "text/plain": [
       "        profile_id  album_id genre_large genre_mid sex  age  \\\n",
       "719396     33032.0    8103.0          키즈       외국어   F  5.0   \n",
       "719397     33032.0    8124.0          키즈       외국어   F  5.0   \n",
       "719398     33032.0   10625.0          키즈      노래율동   F  5.0   \n",
       "719399     33032.0    4540.0          키즈      TV만화   F  5.0   \n",
       "719400     33032.0   14756.0          키즈      노래율동   F  5.0   \n",
       "\n",
       "       pr_interest_keyword_cd_1 ch_interest_keyword_cd_1  ratings  \n",
       "719396                      P03                      K01      0.0  \n",
       "719397                      P03                      K01      0.0  \n",
       "719398                      P03                      K01      0.0  \n",
       "719399                      P03                      K01      0.0  \n",
       "719400                      P03                      K01      0.0  "
      ]
     },
     "execution_count": 102,
     "metadata": {},
     "output_type": "execute_result"
    }
   ],
   "source": [
    "neg_samples.tail()"
   ]
  },
  {
   "cell_type": "code",
   "execution_count": 103,
   "metadata": {},
   "outputs": [],
   "source": [
    "final_train = pd.concat([train, neg_samples])"
   ]
  },
  {
   "cell_type": "code",
   "execution_count": 105,
   "metadata": {},
   "outputs": [],
   "source": [
    "final_train[\"profile_id\"] = final_train[\"profile_id\"].apply(lambda x: user_to_index[x])\n",
    "final_train[\"album_id\"] = final_train[\"album_id\"].apply(lambda x: item_to_index[x])\n",
    "\n",
    "final_train[\"genre_large\"] = final_train[\"genre_large\"].apply(lambda x: genre_large_to_index[x])\n",
    "final_train[\"genre_mid\"] = final_train[\"genre_mid\"].apply(lambda x: genre_mid_to_index[x])\n",
    "\n",
    "final_train[\"sex\"] = final_train[\"sex\"].apply(lambda x: sex_to_index[x])\n",
    "final_train[\"age\"] = final_train[\"age\"].apply(lambda x: age_to_index[x])\n",
    "final_train[\"pr_interest_keyword_cd_1\"] = final_train[\"pr_interest_keyword_cd_1\"].apply(lambda x: pr_interest_keyword_cd_1_to_index[x])\n",
    "final_train[\"ch_interest_keyword_cd_1\"] = final_train[\"ch_interest_keyword_cd_1\"].apply(lambda x: ch_interest_keyword_cd_1_to_index[x])\n",
    "\n",
    "final_train_np = final_train.to_numpy()\n",
    "final_train_np = final_train_np.astype(np.intc)\n",
    "\n",
    "items = final_train_np[:, :-1]\n",
    "field_dims = np.max(items, axis=0) + 1"
   ]
  },
  {
   "cell_type": "code",
   "execution_count": 111,
   "metadata": {},
   "outputs": [
    {
     "data": {
      "text/plain": [
       "array([ 8311, 20695,     6,    28,     2,    13,     8,     9],\n",
       "      dtype=int32)"
      ]
     },
     "execution_count": 111,
     "metadata": {},
     "output_type": "execute_result"
    }
   ],
   "source": [
    "# field 종류별 dim 수\n",
    "field_dims"
   ]
  }
 ],
 "metadata": {
  "kernelspec": {
   "display_name": "Python 3.9.13 64-bit ('nlp')",
   "language": "python",
   "name": "python3"
  },
  "language_info": {
   "codemirror_mode": {
    "name": "ipython",
    "version": 3
   },
   "file_extension": ".py",
   "mimetype": "text/x-python",
   "name": "python",
   "nbconvert_exporter": "python",
   "pygments_lexer": "ipython3",
   "version": "3.9.13"
  },
  "orig_nbformat": 4,
  "vscode": {
   "interpreter": {
    "hash": "8c68d4e82246607c407fe48e8ea8c83604bff69a3864f23665571bb2eafd238d"
   }
  }
 },
 "nbformat": 4,
 "nbformat_minor": 2
}
