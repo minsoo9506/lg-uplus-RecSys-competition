{
 "cells": [
  {
   "cell_type": "code",
   "execution_count": 14,
   "metadata": {},
   "outputs": [],
   "source": [
    "# 패키지 로드\n",
    "import warnings\n",
    "warnings.filterwarnings('ignore')\n",
    "\n",
    "import numpy as np\n",
    "import pandas as pd\n",
    "from tqdm.notebook import tqdm\n",
    "from sklearn.model_selection import train_test_split\n",
    "from collections import defaultdict\n",
    "import os, random\n",
    "\n",
    "from scipy import sparse\n",
    "from sklearn.preprocessing import LabelEncoder\n",
    "import matplotlib.pyplot as plt\n",
    "\n",
    "import torch\n",
    "import torch.nn as nn\n",
    "import torch.nn.functional as F\n",
    "from torch.utils.data import Dataset"
   ]
  },
  {
   "cell_type": "code",
   "execution_count": 5,
   "metadata": {},
   "outputs": [],
   "source": [
    "# 하이퍼파라미터 \n",
    "class config: \n",
    "    gpu_idx = 0\n",
    "    device = torch.device(\"cuda:{}\".format(gpu_idx) if torch.cuda.is_available() else \"cpu\")\n",
    "    top_k = 25\n",
    "    seed = 42\n",
    "    neg_ratio = 100\n",
    "    test_size = 0.2"
   ]
  },
  {
   "cell_type": "code",
   "execution_count": 2,
   "metadata": {},
   "outputs": [],
   "source": [
    "# 시드 고정 \n",
    "def seed_everything(random_seed):\n",
    "    torch.manual_seed(random_seed)\n",
    "    torch.cuda.manual_seed(random_seed)\n",
    "    torch.cuda.manual_seed_all(random_seed)\n",
    "    torch.backends.cudnn.deterministic = True\n",
    "    torch.backends.cudnn.benchmark = False\n",
    "    np.random.seed(random_seed)\n",
    "    random.seed(random_seed)\n",
    "    \n",
    "seed_everything(config.seed)"
   ]
  },
  {
   "cell_type": "markdown",
   "metadata": {},
   "source": [
    "# data 불러오기"
   ]
  },
  {
   "cell_type": "code",
   "execution_count": 3,
   "metadata": {},
   "outputs": [],
   "source": [
    "history = pd.read_csv('../data/history_data.csv')\n",
    "meta = pd.read_csv('../data/meta_data.csv')\n",
    "profile = pd.read_csv('../data/profile_data.csv')"
   ]
  },
  {
   "cell_type": "code",
   "execution_count": 32,
   "metadata": {},
   "outputs": [
    {
     "data": {
      "text/html": [
       "<div>\n",
       "<style scoped>\n",
       "    .dataframe tbody tr th:only-of-type {\n",
       "        vertical-align: middle;\n",
       "    }\n",
       "\n",
       "    .dataframe tbody tr th {\n",
       "        vertical-align: top;\n",
       "    }\n",
       "\n",
       "    .dataframe thead th {\n",
       "        text-align: right;\n",
       "    }\n",
       "</style>\n",
       "<table border=\"1\" class=\"dataframe\">\n",
       "  <thead>\n",
       "    <tr style=\"text-align: right;\">\n",
       "      <th></th>\n",
       "      <th>album_id</th>\n",
       "      <th>title</th>\n",
       "      <th>sub_title</th>\n",
       "      <th>genre_large</th>\n",
       "      <th>genre_mid</th>\n",
       "      <th>genre_small</th>\n",
       "      <th>country</th>\n",
       "      <th>run_time</th>\n",
       "      <th>onair_date</th>\n",
       "      <th>cast_1</th>\n",
       "      <th>cast_2</th>\n",
       "      <th>cast_3</th>\n",
       "      <th>cast_4</th>\n",
       "      <th>cast_5</th>\n",
       "      <th>cast_6</th>\n",
       "      <th>cast_7</th>\n",
       "    </tr>\n",
       "  </thead>\n",
       "  <tbody>\n",
       "    <tr>\n",
       "      <th>0</th>\n",
       "      <td>749</td>\n",
       "      <td>어둠이 무서워요</td>\n",
       "      <td>꼬마버스 타요1</td>\n",
       "      <td>키즈</td>\n",
       "      <td>TV만화</td>\n",
       "      <td>NaN</td>\n",
       "      <td>한국</td>\n",
       "      <td>660</td>\n",
       "      <td>NaN</td>\n",
       "      <td>타요</td>\n",
       "      <td>로기</td>\n",
       "      <td>라니</td>\n",
       "      <td>가니</td>\n",
       "      <td>시투</td>\n",
       "      <td>NaN</td>\n",
       "      <td>NaN</td>\n",
       "    </tr>\n",
       "    <tr>\n",
       "      <th>1</th>\n",
       "      <td>750</td>\n",
       "      <td>우리는 친구</td>\n",
       "      <td>꼬마버스 타요1</td>\n",
       "      <td>키즈</td>\n",
       "      <td>TV만화</td>\n",
       "      <td>NaN</td>\n",
       "      <td>한국</td>\n",
       "      <td>660</td>\n",
       "      <td>NaN</td>\n",
       "      <td>타요</td>\n",
       "      <td>로기</td>\n",
       "      <td>라니</td>\n",
       "      <td>가니</td>\n",
       "      <td>시투</td>\n",
       "      <td>NaN</td>\n",
       "      <td>NaN</td>\n",
       "    </tr>\n",
       "    <tr>\n",
       "      <th>2</th>\n",
       "      <td>2131</td>\n",
       "      <td>타요의 첫 운행</td>\n",
       "      <td>꼬마버스 타요1</td>\n",
       "      <td>키즈</td>\n",
       "      <td>TV만화</td>\n",
       "      <td>NaN</td>\n",
       "      <td>한국</td>\n",
       "      <td>660</td>\n",
       "      <td>NaN</td>\n",
       "      <td>타요</td>\n",
       "      <td>로기</td>\n",
       "      <td>라니</td>\n",
       "      <td>가니</td>\n",
       "      <td>시투</td>\n",
       "      <td>NaN</td>\n",
       "      <td>NaN</td>\n",
       "    </tr>\n",
       "    <tr>\n",
       "      <th>3</th>\n",
       "      <td>2625</td>\n",
       "      <td>길 잃은 타요</td>\n",
       "      <td>꼬마버스 타요1</td>\n",
       "      <td>키즈</td>\n",
       "      <td>TV만화</td>\n",
       "      <td>NaN</td>\n",
       "      <td>한국</td>\n",
       "      <td>660</td>\n",
       "      <td>NaN</td>\n",
       "      <td>타요</td>\n",
       "      <td>로기</td>\n",
       "      <td>라니</td>\n",
       "      <td>가니</td>\n",
       "      <td>시투</td>\n",
       "      <td>NaN</td>\n",
       "      <td>NaN</td>\n",
       "    </tr>\n",
       "    <tr>\n",
       "      <th>4</th>\n",
       "      <td>2594</td>\n",
       "      <td>새내기 꼬마 버스의 하루</td>\n",
       "      <td>꼬마버스 타요1</td>\n",
       "      <td>키즈</td>\n",
       "      <td>TV만화</td>\n",
       "      <td>NaN</td>\n",
       "      <td>한국</td>\n",
       "      <td>660</td>\n",
       "      <td>NaN</td>\n",
       "      <td>타요</td>\n",
       "      <td>로기</td>\n",
       "      <td>라니</td>\n",
       "      <td>가니</td>\n",
       "      <td>시투</td>\n",
       "      <td>NaN</td>\n",
       "      <td>NaN</td>\n",
       "    </tr>\n",
       "  </tbody>\n",
       "</table>\n",
       "</div>"
      ],
      "text/plain": [
       "   album_id          title sub_title genre_large genre_mid genre_small  \\\n",
       "0       749       어둠이 무서워요  꼬마버스 타요1          키즈      TV만화         NaN   \n",
       "1       750         우리는 친구  꼬마버스 타요1          키즈      TV만화         NaN   \n",
       "2      2131       타요의 첫 운행  꼬마버스 타요1          키즈      TV만화         NaN   \n",
       "3      2625        길 잃은 타요  꼬마버스 타요1          키즈      TV만화         NaN   \n",
       "4      2594  새내기 꼬마 버스의 하루  꼬마버스 타요1          키즈      TV만화         NaN   \n",
       "\n",
       "  country  run_time  onair_date cast_1 cast_2 cast_3 cast_4 cast_5 cast_6  \\\n",
       "0      한국       660         NaN     타요     로기     라니     가니     시투    NaN   \n",
       "1      한국       660         NaN     타요     로기     라니     가니     시투    NaN   \n",
       "2      한국       660         NaN     타요     로기     라니     가니     시투    NaN   \n",
       "3      한국       660         NaN     타요     로기     라니     가니     시투    NaN   \n",
       "4      한국       660         NaN     타요     로기     라니     가니     시투    NaN   \n",
       "\n",
       "  cast_7  \n",
       "0    NaN  \n",
       "1    NaN  \n",
       "2    NaN  \n",
       "3    NaN  \n",
       "4    NaN  "
      ]
     },
     "execution_count": 32,
     "metadata": {},
     "output_type": "execute_result"
    }
   ],
   "source": [
    "meta.head()"
   ]
  },
  {
   "cell_type": "markdown",
   "metadata": {},
   "source": [
    "- `genre_large`, `genre_mid` 컬럼 사용"
   ]
  },
  {
   "cell_type": "code",
   "execution_count": 52,
   "metadata": {},
   "outputs": [
    {
     "data": {
      "text/plain": [
       "(42602, 16)"
      ]
     },
     "execution_count": 52,
     "metadata": {},
     "output_type": "execute_result"
    }
   ],
   "source": [
    "meta.shape"
   ]
  },
  {
   "cell_type": "code",
   "execution_count": 53,
   "metadata": {},
   "outputs": [
    {
     "data": {
      "text/plain": [
       "(39875, 3)"
      ]
     },
     "execution_count": 53,
     "metadata": {},
     "output_type": "execute_result"
    }
   ],
   "source": [
    "meta[['album_id','genre_large','genre_mid']].drop_duplicates(['album_id','genre_large','genre_mid']).shape"
   ]
  },
  {
   "cell_type": "code",
   "execution_count": 54,
   "metadata": {},
   "outputs": [
    {
     "data": {
      "text/plain": [
       "(39875, 3)"
      ]
     },
     "execution_count": 54,
     "metadata": {},
     "output_type": "execute_result"
    }
   ],
   "source": [
    "meta[['album_id','genre_large','genre_mid']].drop_duplicates(['album_id']).shape"
   ]
  },
  {
   "cell_type": "code",
   "execution_count": 55,
   "metadata": {},
   "outputs": [],
   "source": [
    "meta_use = meta[['album_id','genre_large','genre_mid']].drop_duplicates(['album_id'])"
   ]
  },
  {
   "cell_type": "code",
   "execution_count": 37,
   "metadata": {},
   "outputs": [
    {
     "data": {
      "text/html": [
       "<div>\n",
       "<style scoped>\n",
       "    .dataframe tbody tr th:only-of-type {\n",
       "        vertical-align: middle;\n",
       "    }\n",
       "\n",
       "    .dataframe tbody tr th {\n",
       "        vertical-align: top;\n",
       "    }\n",
       "\n",
       "    .dataframe thead th {\n",
       "        text-align: right;\n",
       "    }\n",
       "</style>\n",
       "<table border=\"1\" class=\"dataframe\">\n",
       "  <thead>\n",
       "    <tr style=\"text-align: right;\">\n",
       "      <th></th>\n",
       "      <th>profile_id</th>\n",
       "      <th>sex</th>\n",
       "      <th>age</th>\n",
       "      <th>pr_interest_keyword_cd_1</th>\n",
       "      <th>pr_interest_keyword_cd_2</th>\n",
       "      <th>pr_interest_keyword_cd_3</th>\n",
       "      <th>ch_interest_keyword_cd_1</th>\n",
       "      <th>ch_interest_keyword_cd_2</th>\n",
       "      <th>ch_interest_keyword_cd_3</th>\n",
       "    </tr>\n",
       "  </thead>\n",
       "  <tbody>\n",
       "    <tr>\n",
       "      <th>0</th>\n",
       "      <td>3</td>\n",
       "      <td>F</td>\n",
       "      <td>5</td>\n",
       "      <td>P02</td>\n",
       "      <td>P04</td>\n",
       "      <td>P07</td>\n",
       "      <td>K01</td>\n",
       "      <td>K03</td>\n",
       "      <td>K04</td>\n",
       "    </tr>\n",
       "    <tr>\n",
       "      <th>1</th>\n",
       "      <td>5</td>\n",
       "      <td>M</td>\n",
       "      <td>5</td>\n",
       "      <td>P07</td>\n",
       "      <td>P08</td>\n",
       "      <td>P06</td>\n",
       "      <td>K05</td>\n",
       "      <td>K08</td>\n",
       "      <td>K09</td>\n",
       "    </tr>\n",
       "    <tr>\n",
       "      <th>2</th>\n",
       "      <td>7</td>\n",
       "      <td>F</td>\n",
       "      <td>9</td>\n",
       "      <td>P05</td>\n",
       "      <td>P03</td>\n",
       "      <td>NaN</td>\n",
       "      <td>K06</td>\n",
       "      <td>K04</td>\n",
       "      <td>NaN</td>\n",
       "    </tr>\n",
       "    <tr>\n",
       "      <th>3</th>\n",
       "      <td>12</td>\n",
       "      <td>M</td>\n",
       "      <td>6</td>\n",
       "      <td>P03</td>\n",
       "      <td>P06</td>\n",
       "      <td>P02</td>\n",
       "      <td>K09</td>\n",
       "      <td>K07</td>\n",
       "      <td>K03</td>\n",
       "    </tr>\n",
       "    <tr>\n",
       "      <th>4</th>\n",
       "      <td>16</td>\n",
       "      <td>F</td>\n",
       "      <td>12</td>\n",
       "      <td>P03</td>\n",
       "      <td>P06</td>\n",
       "      <td>P01</td>\n",
       "      <td>K01</td>\n",
       "      <td>K06</td>\n",
       "      <td>K04</td>\n",
       "    </tr>\n",
       "  </tbody>\n",
       "</table>\n",
       "</div>"
      ],
      "text/plain": [
       "   profile_id sex  age pr_interest_keyword_cd_1 pr_interest_keyword_cd_2  \\\n",
       "0           3   F    5                      P02                      P04   \n",
       "1           5   M    5                      P07                      P08   \n",
       "2           7   F    9                      P05                      P03   \n",
       "3          12   M    6                      P03                      P06   \n",
       "4          16   F   12                      P03                      P06   \n",
       "\n",
       "  pr_interest_keyword_cd_3 ch_interest_keyword_cd_1 ch_interest_keyword_cd_2  \\\n",
       "0                      P07                      K01                      K03   \n",
       "1                      P06                      K05                      K08   \n",
       "2                      NaN                      K06                      K04   \n",
       "3                      P02                      K09                      K07   \n",
       "4                      P01                      K01                      K06   \n",
       "\n",
       "  ch_interest_keyword_cd_3  \n",
       "0                      K04  \n",
       "1                      K09  \n",
       "2                      NaN  \n",
       "3                      K03  \n",
       "4                      K04  "
      ]
     },
     "execution_count": 37,
     "metadata": {},
     "output_type": "execute_result"
    }
   ],
   "source": [
    "profile.head()"
   ]
  },
  {
   "cell_type": "markdown",
   "metadata": {},
   "source": [
    "- `sex`, `age`, `pr_interest_keyword_cd_1`, `ch_interest_keyword_cd_1` 컬럼 사용"
   ]
  },
  {
   "cell_type": "code",
   "execution_count": 64,
   "metadata": {},
   "outputs": [
    {
     "data": {
      "text/plain": [
       "(8311, 9)"
      ]
     },
     "execution_count": 64,
     "metadata": {},
     "output_type": "execute_result"
    }
   ],
   "source": [
    "profile.shape"
   ]
  },
  {
   "cell_type": "code",
   "execution_count": 62,
   "metadata": {},
   "outputs": [],
   "source": [
    "profile_use = profile[['profile_id','sex','age','pr_interest_keyword_cd_1','ch_interest_keyword_cd_1']]"
   ]
  },
  {
   "cell_type": "code",
   "execution_count": 63,
   "metadata": {},
   "outputs": [
    {
     "data": {
      "text/plain": [
       "(8311, 5)"
      ]
     },
     "execution_count": 63,
     "metadata": {},
     "output_type": "execute_result"
    }
   ],
   "source": [
    "profile_use.drop_duplicates().shape"
   ]
  },
  {
   "cell_type": "markdown",
   "metadata": {},
   "source": [
    "# data merge, 전처리"
   ]
  },
  {
   "cell_type": "code",
   "execution_count": 71,
   "metadata": {},
   "outputs": [],
   "source": [
    "# 데이터 전처리 (중복제거) \n",
    "history_use = history[['profile_id', 'log_time', 'album_id']]\\\n",
    "    .drop_duplicates(subset=['profile_id', 'album_id', 'log_time'])\\\n",
    "        .sort_values(by = ['profile_id', 'log_time']).reset_index(drop = True)\\\n",
    "            .drop('log_time', axis=1)"
   ]
  },
  {
   "cell_type": "code",
   "execution_count": 73,
   "metadata": {},
   "outputs": [
    {
     "name": "stdout",
     "output_type": "stream",
     "text": [
      "(899252, 2)\n"
     ]
    },
    {
     "data": {
      "text/html": [
       "<div>\n",
       "<style scoped>\n",
       "    .dataframe tbody tr th:only-of-type {\n",
       "        vertical-align: middle;\n",
       "    }\n",
       "\n",
       "    .dataframe tbody tr th {\n",
       "        vertical-align: top;\n",
       "    }\n",
       "\n",
       "    .dataframe thead th {\n",
       "        text-align: right;\n",
       "    }\n",
       "</style>\n",
       "<table border=\"1\" class=\"dataframe\">\n",
       "  <thead>\n",
       "    <tr style=\"text-align: right;\">\n",
       "      <th></th>\n",
       "      <th>profile_id</th>\n",
       "      <th>album_id</th>\n",
       "    </tr>\n",
       "  </thead>\n",
       "  <tbody>\n",
       "    <tr>\n",
       "      <th>0</th>\n",
       "      <td>3</td>\n",
       "      <td>15</td>\n",
       "    </tr>\n",
       "    <tr>\n",
       "      <th>1</th>\n",
       "      <td>3</td>\n",
       "      <td>16</td>\n",
       "    </tr>\n",
       "    <tr>\n",
       "      <th>2</th>\n",
       "      <td>3</td>\n",
       "      <td>17</td>\n",
       "    </tr>\n",
       "    <tr>\n",
       "      <th>3</th>\n",
       "      <td>3</td>\n",
       "      <td>18</td>\n",
       "    </tr>\n",
       "    <tr>\n",
       "      <th>4</th>\n",
       "      <td>3</td>\n",
       "      <td>19</td>\n",
       "    </tr>\n",
       "  </tbody>\n",
       "</table>\n",
       "</div>"
      ],
      "text/plain": [
       "   profile_id  album_id\n",
       "0           3        15\n",
       "1           3        16\n",
       "2           3        17\n",
       "3           3        18\n",
       "4           3        19"
      ]
     },
     "execution_count": 73,
     "metadata": {},
     "output_type": "execute_result"
    }
   ],
   "source": [
    "print(history_use.shape)\n",
    "history_use.head()"
   ]
  },
  {
   "cell_type": "code",
   "execution_count": 88,
   "metadata": {},
   "outputs": [],
   "source": [
    "# meta, profile 데이터 추가\n",
    "history_meta = pd.merge(history_use, meta_use, on='album_id', how='left')\n",
    "history_meta_profile = pd.merge(history_meta, profile_use, on='profile_id', how='left')"
   ]
  },
  {
   "cell_type": "code",
   "execution_count": 89,
   "metadata": {},
   "outputs": [
    {
     "name": "stdout",
     "output_type": "stream",
     "text": [
      "(899252, 8)\n"
     ]
    },
    {
     "data": {
      "text/html": [
       "<div>\n",
       "<style scoped>\n",
       "    .dataframe tbody tr th:only-of-type {\n",
       "        vertical-align: middle;\n",
       "    }\n",
       "\n",
       "    .dataframe tbody tr th {\n",
       "        vertical-align: top;\n",
       "    }\n",
       "\n",
       "    .dataframe thead th {\n",
       "        text-align: right;\n",
       "    }\n",
       "</style>\n",
       "<table border=\"1\" class=\"dataframe\">\n",
       "  <thead>\n",
       "    <tr style=\"text-align: right;\">\n",
       "      <th></th>\n",
       "      <th>profile_id</th>\n",
       "      <th>album_id</th>\n",
       "      <th>genre_large</th>\n",
       "      <th>genre_mid</th>\n",
       "      <th>sex</th>\n",
       "      <th>age</th>\n",
       "      <th>pr_interest_keyword_cd_1</th>\n",
       "      <th>ch_interest_keyword_cd_1</th>\n",
       "    </tr>\n",
       "  </thead>\n",
       "  <tbody>\n",
       "    <tr>\n",
       "      <th>0</th>\n",
       "      <td>3</td>\n",
       "      <td>15</td>\n",
       "      <td>키즈</td>\n",
       "      <td>노래율동</td>\n",
       "      <td>F</td>\n",
       "      <td>5</td>\n",
       "      <td>P02</td>\n",
       "      <td>K01</td>\n",
       "    </tr>\n",
       "    <tr>\n",
       "      <th>1</th>\n",
       "      <td>3</td>\n",
       "      <td>16</td>\n",
       "      <td>키즈</td>\n",
       "      <td>노래율동</td>\n",
       "      <td>F</td>\n",
       "      <td>5</td>\n",
       "      <td>P02</td>\n",
       "      <td>K01</td>\n",
       "    </tr>\n",
       "    <tr>\n",
       "      <th>2</th>\n",
       "      <td>3</td>\n",
       "      <td>17</td>\n",
       "      <td>키즈</td>\n",
       "      <td>노래율동</td>\n",
       "      <td>F</td>\n",
       "      <td>5</td>\n",
       "      <td>P02</td>\n",
       "      <td>K01</td>\n",
       "    </tr>\n",
       "    <tr>\n",
       "      <th>3</th>\n",
       "      <td>3</td>\n",
       "      <td>18</td>\n",
       "      <td>키즈</td>\n",
       "      <td>노래율동</td>\n",
       "      <td>F</td>\n",
       "      <td>5</td>\n",
       "      <td>P02</td>\n",
       "      <td>K01</td>\n",
       "    </tr>\n",
       "    <tr>\n",
       "      <th>4</th>\n",
       "      <td>3</td>\n",
       "      <td>19</td>\n",
       "      <td>키즈</td>\n",
       "      <td>노래율동</td>\n",
       "      <td>F</td>\n",
       "      <td>5</td>\n",
       "      <td>P02</td>\n",
       "      <td>K01</td>\n",
       "    </tr>\n",
       "  </tbody>\n",
       "</table>\n",
       "</div>"
      ],
      "text/plain": [
       "   profile_id  album_id genre_large genre_mid sex  age  \\\n",
       "0           3        15          키즈      노래율동   F    5   \n",
       "1           3        16          키즈      노래율동   F    5   \n",
       "2           3        17          키즈      노래율동   F    5   \n",
       "3           3        18          키즈      노래율동   F    5   \n",
       "4           3        19          키즈      노래율동   F    5   \n",
       "\n",
       "  pr_interest_keyword_cd_1 ch_interest_keyword_cd_1  \n",
       "0                      P02                      K01  \n",
       "1                      P02                      K01  \n",
       "2                      P02                      K01  \n",
       "3                      P02                      K01  \n",
       "4                      P02                      K01  "
      ]
     },
     "execution_count": 89,
     "metadata": {},
     "output_type": "execute_result"
    }
   ],
   "source": [
    "print(history_meta_profile.shape)\n",
    "history_meta_profile.head()"
   ]
  },
  {
   "cell_type": "code",
   "execution_count": 90,
   "metadata": {},
   "outputs": [],
   "source": [
    "# 시청 여부 추가\n",
    "history_meta_profile['ratings'] = 1"
   ]
  },
  {
   "cell_type": "code",
   "execution_count": 91,
   "metadata": {},
   "outputs": [],
   "source": [
    "user_to_index = {\n",
    "original: idx for idx, original in enumerate(history_meta_profile[\"profile_id\"].unique())\n",
    "}\n",
    "\n",
    "item_to_index = {\n",
    "original: idx for idx, original in enumerate(history_meta_profile[\"album_id\"].unique())\n",
    "}\n",
    "\n",
    "genre_large_to_index = {\n",
    "original: idx for idx, original in enumerate(history_meta_profile[\"genre_large\"].unique())\n",
    "}\n",
    "genre_mid_to_index = {\n",
    "original: idx for idx, original in enumerate(history_meta_profile[\"genre_mid\"].unique())\n",
    "}\n",
    "\n",
    "sex_to_index = {\n",
    "original: idx for idx, original in enumerate(history_meta_profile[\"sex\"].unique())\n",
    "}\n",
    "age_to_index = {\n",
    "original: idx for idx, original in enumerate(history_meta_profile[\"age\"].unique())\n",
    "}\n",
    "pr_interest_keyword_cd_1_to_index = {\n",
    "original: idx for idx, original in enumerate(history_meta_profile[\"pr_interest_keyword_cd_1\"].unique())\n",
    "}\n",
    "ch_interest_keyword_cd_1_to_index = {\n",
    "original: idx for idx, original in enumerate(history_meta_profile[\"ch_interest_keyword_cd_1\"].unique())\n",
    "}\n",
    "\n",
    "history_meta_profile[\"profile_id\"] = history_meta_profile[\"profile_id\"].apply(lambda x: user_to_index[x])\n",
    "history_meta_profile[\"album_id\"] = history_meta_profile[\"album_id\"].apply(lambda x: item_to_index[x])\n",
    "\n",
    "history_meta_profile[\"genre_large\"] = history_meta_profile[\"genre_large\"].apply(lambda x: genre_large_to_index[x])\n",
    "history_meta_profile[\"genre_mid\"] = history_meta_profile[\"genre_mid\"].apply(lambda x: genre_mid_to_index[x])\n",
    "\n",
    "history_meta_profile[\"sex\"] = history_meta_profile[\"sex\"].apply(lambda x: sex_to_index[x])\n",
    "history_meta_profile[\"age\"] = history_meta_profile[\"age\"].apply(lambda x: age_to_index[x])\n",
    "history_meta_profile[\"pr_interest_keyword_cd_1\"] = history_meta_profile[\"pr_interest_keyword_cd_1\"].apply(lambda x: pr_interest_keyword_cd_1_to_index[x])\n",
    "history_meta_profile[\"ch_interest_keyword_cd_1\"] = history_meta_profile[\"ch_interest_keyword_cd_1\"].apply(lambda x: ch_interest_keyword_cd_1_to_index[x])\n",
    "\n",
    "history_meta_profile = history_meta_profile.to_numpy()\n",
    "\n",
    "items = history_meta_profile[:, :-1].astype(np.intc)\n",
    "targets = history_meta_profile[:, -1].astype(np.float32)\n",
    "field_dims = np.max(items, axis=0) + 1"
   ]
  },
  {
   "cell_type": "code",
   "execution_count": 94,
   "metadata": {},
   "outputs": [
    {
     "data": {
      "text/plain": [
       "array([ 8311, 20695,     6,    28,     2,    13,     8,     9],\n",
       "      dtype=int32)"
      ]
     },
     "execution_count": 94,
     "metadata": {},
     "output_type": "execute_result"
    }
   ],
   "source": [
    "# 각 field 종류별 갯수\n",
    "field_dims"
   ]
  },
  {
   "cell_type": "code",
   "execution_count": 93,
   "metadata": {},
   "outputs": [
    {
     "name": "stdout",
     "output_type": "stream",
     "text": [
      "학습 데이터 크기: (719401, 9)\n",
      "검증 데이터 크기: (179851, 9)\n"
     ]
    }
   ],
   "source": [
    "# 학습 및 검증 데이터 분리\n",
    "train, valid = train_test_split(\n",
    "    history_meta_profile, test_size=config.test_size, random_state=config.seed,\n",
    ")\n",
    "print('학습 데이터 크기:', train.shape)\n",
    "print('검증 데이터 크기:', valid.shape)"
   ]
  },
  {
   "cell_type": "markdown",
   "metadata": {},
   "source": [
    "# negative sampling 구현"
   ]
  },
  {
   "cell_type": "code",
   "execution_count": null,
   "metadata": {},
   "outputs": [],
   "source": []
  },
  {
   "cell_type": "code",
   "execution_count": null,
   "metadata": {},
   "outputs": [],
   "source": []
  },
  {
   "cell_type": "code",
   "execution_count": null,
   "metadata": {},
   "outputs": [],
   "source": []
  },
  {
   "cell_type": "code",
   "execution_count": null,
   "metadata": {},
   "outputs": [],
   "source": [
    "class DeepFMDataset(Dataset):\n",
    "    def __init__(self, data: pd.DataFrame):\n",
    "        \"\"\"dataset for DeepFM model\n",
    "\n",
    "        Parameters\n",
    "        ----------\n",
    "        data : pd.DataFrame\n",
    "            _description_\n",
    "        \"\"\"\n",
    "        super().__init__()\n",
    "\n",
    "        user_to_index = {\n",
    "            original: idx for idx, original in enumerate(data[\"profile_id\"].unique())\n",
    "        }\n",
    "        movie_to_index = {\n",
    "            original: idx for idx, original in enumerate(data[\"album_id\"].unique())\n",
    "        }\n",
    "        data[\"profile_id\"] = data[\"profile_id\"].apply(lambda x: user_to_index[x])\n",
    "        data[\"album_id\"] = data[\"album_id\"].apply(lambda x: movie_to_index[x])\n",
    "        data = data.to_numpy()\n",
    "\n",
    "        self.items = data[:, :2].astype(np.intc)\n",
    "        self.targets = data[:, 2].astype(np.float32)\n",
    "        self.field_dims = np.max(self.items, axis=0) + 1\n",
    "\n",
    "    def __len__(self):\n",
    "        return self.targets.shape[0]\n",
    "\n",
    "    def __getitem__(self, idx):\n",
    "        return self.items[idx], self.targets[idx]"
   ]
  }
 ],
 "metadata": {
  "kernelspec": {
   "display_name": "Python 3.9.13 64-bit ('nlp')",
   "language": "python",
   "name": "python3"
  },
  "language_info": {
   "codemirror_mode": {
    "name": "ipython",
    "version": 3
   },
   "file_extension": ".py",
   "mimetype": "text/x-python",
   "name": "python",
   "nbconvert_exporter": "python",
   "pygments_lexer": "ipython3",
   "version": "3.9.13"
  },
  "orig_nbformat": 4,
  "vscode": {
   "interpreter": {
    "hash": "8c68d4e82246607c407fe48e8ea8c83604bff69a3864f23665571bb2eafd238d"
   }
  }
 },
 "nbformat": 4,
 "nbformat_minor": 2
}
