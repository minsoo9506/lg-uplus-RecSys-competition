{
 "cells": [
  {
   "cell_type": "code",
   "execution_count": 4,
   "metadata": {},
   "outputs": [],
   "source": [
    "import pandas as pd\n",
    "import numpy as np"
   ]
  },
  {
   "cell_type": "code",
   "execution_count": 5,
   "metadata": {},
   "outputs": [
    {
     "name": "stderr",
     "output_type": "stream",
     "text": [
      "/tmp/ipykernel_50873/1490594871.py:5: DtypeWarning: Columns (15) have mixed types. Specify dtype option on import or set low_memory=False.\n",
      "  meta = pd.read_csv('../data/meta_data.csv')\n"
     ]
    }
   ],
   "source": [
    "history = pd.read_csv('../data/history_data.csv')\n",
    "watch_e = pd.read_csv('../data/watch_e_data.csv')\n",
    "buy = pd.read_csv('../data/buy_data.csv')\n",
    "search = pd.read_csv('../data/search_data.csv')\n",
    "meta = pd.read_csv('../data/meta_data.csv')\n",
    "meta_plus = pd.read_csv('../data/meta_data_plus.csv')\n",
    "profile = pd.read_csv('../data/profile_data.csv')"
   ]
  },
  {
   "cell_type": "code",
   "execution_count": 6,
   "metadata": {},
   "outputs": [],
   "source": [
    "submission = pd.read_csv('../data/sample_submission.csv')"
   ]
  },
  {
   "cell_type": "code",
   "execution_count": 7,
   "metadata": {},
   "outputs": [
    {
     "data": {
      "text/html": [
       "<div>\n",
       "<style scoped>\n",
       "    .dataframe tbody tr th:only-of-type {\n",
       "        vertical-align: middle;\n",
       "    }\n",
       "\n",
       "    .dataframe tbody tr th {\n",
       "        vertical-align: top;\n",
       "    }\n",
       "\n",
       "    .dataframe thead th {\n",
       "        text-align: right;\n",
       "    }\n",
       "</style>\n",
       "<table border=\"1\" class=\"dataframe\">\n",
       "  <thead>\n",
       "    <tr style=\"text-align: right;\">\n",
       "      <th></th>\n",
       "      <th>profile_id</th>\n",
       "      <th>predicted_list</th>\n",
       "    </tr>\n",
       "  </thead>\n",
       "  <tbody>\n",
       "    <tr>\n",
       "      <th>0</th>\n",
       "      <td>3</td>\n",
       "      <td>[0]</td>\n",
       "    </tr>\n",
       "    <tr>\n",
       "      <th>1</th>\n",
       "      <td>5</td>\n",
       "      <td>[0]</td>\n",
       "    </tr>\n",
       "    <tr>\n",
       "      <th>2</th>\n",
       "      <td>7</td>\n",
       "      <td>[0]</td>\n",
       "    </tr>\n",
       "    <tr>\n",
       "      <th>3</th>\n",
       "      <td>12</td>\n",
       "      <td>[0]</td>\n",
       "    </tr>\n",
       "    <tr>\n",
       "      <th>4</th>\n",
       "      <td>16</td>\n",
       "      <td>[0]</td>\n",
       "    </tr>\n",
       "  </tbody>\n",
       "</table>\n",
       "</div>"
      ],
      "text/plain": [
       "   profile_id predicted_list\n",
       "0           3            [0]\n",
       "1           5            [0]\n",
       "2           7            [0]\n",
       "3          12            [0]\n",
       "4          16            [0]"
      ]
     },
     "execution_count": 7,
     "metadata": {},
     "output_type": "execute_result"
    }
   ],
   "source": [
    "submission.head()"
   ]
  },
  {
   "cell_type": "code",
   "execution_count": 8,
   "metadata": {},
   "outputs": [
    {
     "name": "stdout",
     "output_type": "stream",
     "text": [
      "예측해야하는 user의 수: 8311\n"
     ]
    }
   ],
   "source": [
    "pred_n_user = len(submission['profile_id'].unique())\n",
    "print(f'예측해야하는 user의 수: {pred_n_user}')"
   ]
  },
  {
   "cell_type": "markdown",
   "metadata": {},
   "source": [
    "- 위에 해당하는 유저들에게 25개 추천"
   ]
  },
  {
   "cell_type": "code",
   "execution_count": 9,
   "metadata": {},
   "outputs": [
    {
     "name": "stdout",
     "output_type": "stream",
     "text": [
      "(1005651, 8)\n"
     ]
    },
    {
     "data": {
      "text/html": [
       "<div>\n",
       "<style scoped>\n",
       "    .dataframe tbody tr th:only-of-type {\n",
       "        vertical-align: middle;\n",
       "    }\n",
       "\n",
       "    .dataframe tbody tr th {\n",
       "        vertical-align: top;\n",
       "    }\n",
       "\n",
       "    .dataframe thead th {\n",
       "        text-align: right;\n",
       "    }\n",
       "</style>\n",
       "<table border=\"1\" class=\"dataframe\">\n",
       "  <thead>\n",
       "    <tr style=\"text-align: right;\">\n",
       "      <th></th>\n",
       "      <th>profile_id</th>\n",
       "      <th>ss_id</th>\n",
       "      <th>log_time</th>\n",
       "      <th>act_target_dtl</th>\n",
       "      <th>album_id</th>\n",
       "      <th>payment</th>\n",
       "      <th>continuous_play</th>\n",
       "      <th>short_trailer</th>\n",
       "    </tr>\n",
       "  </thead>\n",
       "  <tbody>\n",
       "    <tr>\n",
       "      <th>0</th>\n",
       "      <td>3</td>\n",
       "      <td>20220301115653</td>\n",
       "      <td>20220301115719</td>\n",
       "      <td>MKID003</td>\n",
       "      <td>15</td>\n",
       "      <td>NaN</td>\n",
       "      <td>Y</td>\n",
       "      <td>N</td>\n",
       "    </tr>\n",
       "    <tr>\n",
       "      <th>1</th>\n",
       "      <td>3</td>\n",
       "      <td>20220301115653</td>\n",
       "      <td>20220301115809</td>\n",
       "      <td>MKID003</td>\n",
       "      <td>16</td>\n",
       "      <td>NaN</td>\n",
       "      <td>Y</td>\n",
       "      <td>N</td>\n",
       "    </tr>\n",
       "    <tr>\n",
       "      <th>2</th>\n",
       "      <td>3</td>\n",
       "      <td>20220301115653</td>\n",
       "      <td>20220301115958</td>\n",
       "      <td>MKID003</td>\n",
       "      <td>17</td>\n",
       "      <td>NaN</td>\n",
       "      <td>Y</td>\n",
       "      <td>N</td>\n",
       "    </tr>\n",
       "    <tr>\n",
       "      <th>3</th>\n",
       "      <td>3</td>\n",
       "      <td>20220301115653</td>\n",
       "      <td>20220301120118</td>\n",
       "      <td>MKID003</td>\n",
       "      <td>18</td>\n",
       "      <td>NaN</td>\n",
       "      <td>Y</td>\n",
       "      <td>N</td>\n",
       "    </tr>\n",
       "    <tr>\n",
       "      <th>4</th>\n",
       "      <td>3</td>\n",
       "      <td>20220301115653</td>\n",
       "      <td>20220301120229</td>\n",
       "      <td>MKID003</td>\n",
       "      <td>19</td>\n",
       "      <td>NaN</td>\n",
       "      <td>Y</td>\n",
       "      <td>N</td>\n",
       "    </tr>\n",
       "  </tbody>\n",
       "</table>\n",
       "</div>"
      ],
      "text/plain": [
       "   profile_id           ss_id        log_time act_target_dtl  album_id  \\\n",
       "0           3  20220301115653  20220301115719        MKID003        15   \n",
       "1           3  20220301115653  20220301115809        MKID003        16   \n",
       "2           3  20220301115653  20220301115958        MKID003        17   \n",
       "3           3  20220301115653  20220301120118        MKID003        18   \n",
       "4           3  20220301115653  20220301120229        MKID003        19   \n",
       "\n",
       "   payment continuous_play short_trailer  \n",
       "0      NaN               Y             N  \n",
       "1      NaN               Y             N  \n",
       "2      NaN               Y             N  \n",
       "3      NaN               Y             N  \n",
       "4      NaN               Y             N  "
      ]
     },
     "execution_count": 9,
     "metadata": {},
     "output_type": "execute_result"
    }
   ],
   "source": [
    "print(history.shape)\n",
    "history.head()"
   ]
  },
  {
   "cell_type": "code",
   "execution_count": 10,
   "metadata": {},
   "outputs": [
    {
     "data": {
      "text/html": [
       "<div>\n",
       "<style scoped>\n",
       "    .dataframe tbody tr th:only-of-type {\n",
       "        vertical-align: middle;\n",
       "    }\n",
       "\n",
       "    .dataframe tbody tr th {\n",
       "        vertical-align: top;\n",
       "    }\n",
       "\n",
       "    .dataframe thead th {\n",
       "        text-align: right;\n",
       "    }\n",
       "</style>\n",
       "<table border=\"1\" class=\"dataframe\">\n",
       "  <thead>\n",
       "    <tr style=\"text-align: right;\">\n",
       "      <th></th>\n",
       "      <th>profile_id</th>\n",
       "      <th>ss_id</th>\n",
       "      <th>log_time</th>\n",
       "      <th>act_target_dtl</th>\n",
       "      <th>album_id</th>\n",
       "      <th>payment</th>\n",
       "      <th>continuous_play</th>\n",
       "      <th>short_trailer</th>\n",
       "    </tr>\n",
       "  </thead>\n",
       "  <tbody>\n",
       "    <tr>\n",
       "      <th>1005646</th>\n",
       "      <td>33032</td>\n",
       "      <td>20220427155091</td>\n",
       "      <td>20220427155668</td>\n",
       "      <td>MKID003</td>\n",
       "      <td>381</td>\n",
       "      <td>NaN</td>\n",
       "      <td>Y</td>\n",
       "      <td>N</td>\n",
       "    </tr>\n",
       "    <tr>\n",
       "      <th>1005647</th>\n",
       "      <td>33032</td>\n",
       "      <td>20220427155091</td>\n",
       "      <td>20220427155680</td>\n",
       "      <td>MKID003</td>\n",
       "      <td>381</td>\n",
       "      <td>NaN</td>\n",
       "      <td>Y</td>\n",
       "      <td>N</td>\n",
       "    </tr>\n",
       "    <tr>\n",
       "      <th>1005648</th>\n",
       "      <td>33032</td>\n",
       "      <td>20220427155839</td>\n",
       "      <td>20220427155810</td>\n",
       "      <td>MKID003</td>\n",
       "      <td>125</td>\n",
       "      <td>NaN</td>\n",
       "      <td>Y</td>\n",
       "      <td>N</td>\n",
       "    </tr>\n",
       "    <tr>\n",
       "      <th>1005649</th>\n",
       "      <td>33032</td>\n",
       "      <td>20220427155706</td>\n",
       "      <td>20220427155838</td>\n",
       "      <td>MKID003</td>\n",
       "      <td>125</td>\n",
       "      <td>NaN</td>\n",
       "      <td>Y</td>\n",
       "      <td>N</td>\n",
       "    </tr>\n",
       "    <tr>\n",
       "      <th>1005650</th>\n",
       "      <td>33032</td>\n",
       "      <td>20220427155865</td>\n",
       "      <td>20220427155891</td>\n",
       "      <td>MKID003</td>\n",
       "      <td>381</td>\n",
       "      <td>NaN</td>\n",
       "      <td>N</td>\n",
       "      <td>N</td>\n",
       "    </tr>\n",
       "  </tbody>\n",
       "</table>\n",
       "</div>"
      ],
      "text/plain": [
       "         profile_id           ss_id        log_time act_target_dtl  album_id  \\\n",
       "1005646       33032  20220427155091  20220427155668        MKID003       381   \n",
       "1005647       33032  20220427155091  20220427155680        MKID003       381   \n",
       "1005648       33032  20220427155839  20220427155810        MKID003       125   \n",
       "1005649       33032  20220427155706  20220427155838        MKID003       125   \n",
       "1005650       33032  20220427155865  20220427155891        MKID003       381   \n",
       "\n",
       "         payment continuous_play short_trailer  \n",
       "1005646      NaN               Y             N  \n",
       "1005647      NaN               Y             N  \n",
       "1005648      NaN               Y             N  \n",
       "1005649      NaN               Y             N  \n",
       "1005650      NaN               N             N  "
      ]
     },
     "execution_count": 10,
     "metadata": {},
     "output_type": "execute_result"
    }
   ],
   "source": [
    "history.tail()"
   ]
  },
  {
   "cell_type": "code",
   "execution_count": 11,
   "metadata": {},
   "outputs": [
    {
     "name": "stdout",
     "output_type": "stream",
     "text": [
      "<class 'pandas.core.frame.DataFrame'>\n",
      "RangeIndex: 1005651 entries, 0 to 1005650\n",
      "Data columns (total 8 columns):\n",
      " #   Column           Non-Null Count    Dtype  \n",
      "---  ------           --------------    -----  \n",
      " 0   profile_id       1005651 non-null  int64  \n",
      " 1   ss_id            1005651 non-null  int64  \n",
      " 2   log_time         1005651 non-null  int64  \n",
      " 3   act_target_dtl   1005651 non-null  object \n",
      " 4   album_id         1005651 non-null  int64  \n",
      " 5   payment          73486 non-null    float64\n",
      " 6   continuous_play  1005651 non-null  object \n",
      " 7   short_trailer    1005651 non-null  object \n",
      "dtypes: float64(1), int64(4), object(3)\n",
      "memory usage: 61.4+ MB\n"
     ]
    }
   ],
   "source": [
    "history.info()"
   ]
  },
  {
   "cell_type": "code",
   "execution_count": 12,
   "metadata": {},
   "outputs": [
    {
     "name": "stdout",
     "output_type": "stream",
     "text": [
      "history에 있는 unique user 수: 8311\n",
      "history에 있는 unique item 수: 20695\n"
     ]
    }
   ],
   "source": [
    "history_n_user = len(history['profile_id'].unique())\n",
    "history_n_item = len(history['album_id'].unique())\n",
    "print(f'history에 있는 unique user 수: {history_n_user}')\n",
    "print(f'history에 있는 unique item 수: {history_n_item}')"
   ]
  },
  {
   "cell_type": "code",
   "execution_count": 23,
   "metadata": {},
   "outputs": [
    {
     "data": {
      "text/plain": [
       "<AxesSubplot:ylabel='Frequency'>"
      ]
     },
     "execution_count": 23,
     "metadata": {},
     "output_type": "execute_result"
    },
    {
     "data": {
      "image/png": "[encoded data removed]",
      "text/plain": [
       "<Figure size 640x480 with 1 Axes>"
      ]
     },
     "metadata": {},
     "output_type": "display_data"
    }
   ],
   "source": [
    "history['profile_id'].value_counts().plot(kind='hist', bins=50)"
   ]
  },
  {
   "cell_type": "code",
   "execution_count": 24,
   "metadata": {},
   "outputs": [
    {
     "data": {
      "text/plain": [
       "<AxesSubplot:ylabel='Frequency'>"
      ]
     },
     "execution_count": 24,
     "metadata": {},
     "output_type": "execute_result"
    },
    {
     "data": {
      "image/png": "[encoded data removed]",
      "text/plain": [
       "<Figure size 640x480 with 1 Axes>"
      ]
     },
     "metadata": {},
     "output_type": "display_data"
    }
   ],
   "source": [
    "# 중복제거 후 (user가 시청한 item)\n",
    "history.drop_duplicates(['profile_id','album_id'])['profile_id'].value_counts().plot(kind='hist', bins=50)"
   ]
  },
  {
   "cell_type": "code",
   "execution_count": 25,
   "metadata": {},
   "outputs": [
    {
     "data": {
      "text/plain": [
       "count    8311.000000\n",
       "mean       45.788353\n",
       "std        71.871846\n",
       "min         1.000000\n",
       "25%         8.000000\n",
       "50%        23.000000\n",
       "75%        54.000000\n",
       "max      1328.000000\n",
       "Name: profile_id, dtype: float64"
      ]
     },
     "execution_count": 25,
     "metadata": {},
     "output_type": "execute_result"
    }
   ],
   "source": [
    "history.drop_duplicates(['profile_id','album_id'])['profile_id'].value_counts().describe()"
   ]
  },
  {
   "cell_type": "code",
   "execution_count": 14,
   "metadata": {},
   "outputs": [
    {
     "name": "stdout",
     "output_type": "stream",
     "text": [
      "(892794, 8)\n"
     ]
    },
    {
     "data": {
      "text/html": [
       "<div>\n",
       "<style scoped>\n",
       "    .dataframe tbody tr th:only-of-type {\n",
       "        vertical-align: middle;\n",
       "    }\n",
       "\n",
       "    .dataframe tbody tr th {\n",
       "        vertical-align: top;\n",
       "    }\n",
       "\n",
       "    .dataframe thead th {\n",
       "        text-align: right;\n",
       "    }\n",
       "</style>\n",
       "<table border=\"1\" class=\"dataframe\">\n",
       "  <thead>\n",
       "    <tr style=\"text-align: right;\">\n",
       "      <th></th>\n",
       "      <th>profile_id</th>\n",
       "      <th>ss_id</th>\n",
       "      <th>log_time</th>\n",
       "      <th>act_target_dtl</th>\n",
       "      <th>album_id</th>\n",
       "      <th>watch_time</th>\n",
       "      <th>total_time</th>\n",
       "      <th>continuous_play</th>\n",
       "    </tr>\n",
       "  </thead>\n",
       "  <tbody>\n",
       "    <tr>\n",
       "      <th>0</th>\n",
       "      <td>3</td>\n",
       "      <td>20220301115653</td>\n",
       "      <td>20220301115805</td>\n",
       "      <td>MKID049</td>\n",
       "      <td>15</td>\n",
       "      <td>46</td>\n",
       "      <td>46</td>\n",
       "      <td>1</td>\n",
       "    </tr>\n",
       "    <tr>\n",
       "      <th>1</th>\n",
       "      <td>3</td>\n",
       "      <td>20220301115653</td>\n",
       "      <td>20220301115954</td>\n",
       "      <td>MKID049</td>\n",
       "      <td>16</td>\n",
       "      <td>104</td>\n",
       "      <td>105</td>\n",
       "      <td>1</td>\n",
       "    </tr>\n",
       "    <tr>\n",
       "      <th>2</th>\n",
       "      <td>3</td>\n",
       "      <td>20220301115653</td>\n",
       "      <td>20220301120114</td>\n",
       "      <td>MKID049</td>\n",
       "      <td>17</td>\n",
       "      <td>76</td>\n",
       "      <td>76</td>\n",
       "      <td>1</td>\n",
       "    </tr>\n",
       "    <tr>\n",
       "      <th>3</th>\n",
       "      <td>3</td>\n",
       "      <td>20220301115653</td>\n",
       "      <td>20220301120226</td>\n",
       "      <td>MKID049</td>\n",
       "      <td>18</td>\n",
       "      <td>67</td>\n",
       "      <td>68</td>\n",
       "      <td>1</td>\n",
       "    </tr>\n",
       "    <tr>\n",
       "      <th>4</th>\n",
       "      <td>3</td>\n",
       "      <td>20220301115653</td>\n",
       "      <td>20220301120400</td>\n",
       "      <td>MKID049</td>\n",
       "      <td>19</td>\n",
       "      <td>90</td>\n",
       "      <td>90</td>\n",
       "      <td>0</td>\n",
       "    </tr>\n",
       "  </tbody>\n",
       "</table>\n",
       "</div>"
      ],
      "text/plain": [
       "   profile_id           ss_id        log_time act_target_dtl  album_id  \\\n",
       "0           3  20220301115653  20220301115805        MKID049        15   \n",
       "1           3  20220301115653  20220301115954        MKID049        16   \n",
       "2           3  20220301115653  20220301120114        MKID049        17   \n",
       "3           3  20220301115653  20220301120226        MKID049        18   \n",
       "4           3  20220301115653  20220301120400        MKID049        19   \n",
       "\n",
       "   watch_time  total_time  continuous_play  \n",
       "0          46          46                1  \n",
       "1         104         105                1  \n",
       "2          76          76                1  \n",
       "3          67          68                1  \n",
       "4          90          90                0  "
      ]
     },
     "execution_count": 14,
     "metadata": {},
     "output_type": "execute_result"
    }
   ],
   "source": [
    "print(watch_e.shape)\n",
    "watch_e.head()"
   ]
  },
  {
   "cell_type": "code",
   "execution_count": 15,
   "metadata": {},
   "outputs": [
    {
     "name": "stdout",
     "output_type": "stream",
     "text": [
      "watch_e에 있는 unique user 수: 7658\n",
      "watch_e에 있는 unique item 수: 20361\n"
     ]
    }
   ],
   "source": [
    "watch_e_n_user = len(watch_e['profile_id'].unique())\n",
    "watch_e_n_item = len(watch_e['album_id'].unique())\n",
    "print(f'watch_e에 있는 unique user 수: {watch_e_n_user}')\n",
    "print(f'watch_e에 있는 unique item 수: {watch_e_n_item}')"
   ]
  },
  {
   "cell_type": "code",
   "execution_count": 16,
   "metadata": {},
   "outputs": [
    {
     "data": {
      "text/plain": [
       "<AxesSubplot:>"
      ]
     },
     "execution_count": 16,
     "metadata": {},
     "output_type": "execute_result"
    },
    {
     "data": {
      "image/png": "[encoded data removed]",
      "text/plain": [
       "<Figure size 640x480 with 1 Axes>"
      ]
     },
     "metadata": {},
     "output_type": "display_data"
    }
   ],
   "source": [
    "# 영상 실제 시간과 시청 시간의 차이\n",
    "(watch_e['total_time'] - watch_e['watch_time']).plot(kind='box')"
   ]
  },
  {
   "cell_type": "code",
   "execution_count": 17,
   "metadata": {},
   "outputs": [
    {
     "name": "stdout",
     "output_type": "stream",
     "text": [
      "(150, 6)\n"
     ]
    },
    {
     "data": {
      "text/html": [
       "<div>\n",
       "<style scoped>\n",
       "    .dataframe tbody tr th:only-of-type {\n",
       "        vertical-align: middle;\n",
       "    }\n",
       "\n",
       "    .dataframe tbody tr th {\n",
       "        vertical-align: top;\n",
       "    }\n",
       "\n",
       "    .dataframe thead th {\n",
       "        text-align: right;\n",
       "    }\n",
       "</style>\n",
       "<table border=\"1\" class=\"dataframe\">\n",
       "  <thead>\n",
       "    <tr style=\"text-align: right;\">\n",
       "      <th></th>\n",
       "      <th>profile_id</th>\n",
       "      <th>ss_id</th>\n",
       "      <th>log_time</th>\n",
       "      <th>act_target_dtl</th>\n",
       "      <th>album_id</th>\n",
       "      <th>payment</th>\n",
       "    </tr>\n",
       "  </thead>\n",
       "  <tbody>\n",
       "    <tr>\n",
       "      <th>0</th>\n",
       "      <td>255</td>\n",
       "      <td>20220426153942</td>\n",
       "      <td>20220426154128</td>\n",
       "      <td>MKID004</td>\n",
       "      <td>3767</td>\n",
       "      <td>500</td>\n",
       "    </tr>\n",
       "    <tr>\n",
       "      <th>1</th>\n",
       "      <td>1603</td>\n",
       "      <td>20220309163919</td>\n",
       "      <td>20220309164043</td>\n",
       "      <td>MKID004</td>\n",
       "      <td>1640</td>\n",
       "      <td>300</td>\n",
       "    </tr>\n",
       "    <tr>\n",
       "      <th>2</th>\n",
       "      <td>5303</td>\n",
       "      <td>20220411080324</td>\n",
       "      <td>20220411082725</td>\n",
       "      <td>MKID004</td>\n",
       "      <td>3821</td>\n",
       "      <td>500</td>\n",
       "    </tr>\n",
       "    <tr>\n",
       "      <th>3</th>\n",
       "      <td>5303</td>\n",
       "      <td>20220411080324</td>\n",
       "      <td>20220411084013</td>\n",
       "      <td>MKID004</td>\n",
       "      <td>3822</td>\n",
       "      <td>500</td>\n",
       "    </tr>\n",
       "    <tr>\n",
       "      <th>4</th>\n",
       "      <td>5303</td>\n",
       "      <td>20220411080324</td>\n",
       "      <td>20220411085607</td>\n",
       "      <td>MKID004</td>\n",
       "      <td>3823</td>\n",
       "      <td>500</td>\n",
       "    </tr>\n",
       "  </tbody>\n",
       "</table>\n",
       "</div>"
      ],
      "text/plain": [
       "   profile_id           ss_id        log_time act_target_dtl  album_id  \\\n",
       "0         255  20220426153942  20220426154128        MKID004      3767   \n",
       "1        1603  20220309163919  20220309164043        MKID004      1640   \n",
       "2        5303  20220411080324  20220411082725        MKID004      3821   \n",
       "3        5303  20220411080324  20220411084013        MKID004      3822   \n",
       "4        5303  20220411080324  20220411085607        MKID004      3823   \n",
       "\n",
       "   payment  \n",
       "0      500  \n",
       "1      300  \n",
       "2      500  \n",
       "3      500  \n",
       "4      500  "
      ]
     },
     "execution_count": 17,
     "metadata": {},
     "output_type": "execute_result"
    }
   ],
   "source": [
    "print(buy.shape)\n",
    "buy.head()"
   ]
  },
  {
   "cell_type": "markdown",
   "metadata": {},
   "source": [
    "- 구매데이터는 너무 sparse 하다"
   ]
  },
  {
   "cell_type": "code",
   "execution_count": 18,
   "metadata": {},
   "outputs": [
    {
     "name": "stdout",
     "output_type": "stream",
     "text": [
      "(6474, 5)\n"
     ]
    },
    {
     "data": {
      "text/html": [
       "<div>\n",
       "<style scoped>\n",
       "    .dataframe tbody tr th:only-of-type {\n",
       "        vertical-align: middle;\n",
       "    }\n",
       "\n",
       "    .dataframe tbody tr th {\n",
       "        vertical-align: top;\n",
       "    }\n",
       "\n",
       "    .dataframe thead th {\n",
       "        text-align: right;\n",
       "    }\n",
       "</style>\n",
       "<table border=\"1\" class=\"dataframe\">\n",
       "  <thead>\n",
       "    <tr style=\"text-align: right;\">\n",
       "      <th></th>\n",
       "      <th>profile_id</th>\n",
       "      <th>ss_id</th>\n",
       "      <th>log_time</th>\n",
       "      <th>act_target_dtl</th>\n",
       "      <th>album_id</th>\n",
       "    </tr>\n",
       "  </thead>\n",
       "  <tbody>\n",
       "    <tr>\n",
       "      <th>0</th>\n",
       "      <td>59</td>\n",
       "      <td>20220303183951</td>\n",
       "      <td>20220303183914</td>\n",
       "      <td>MKID017</td>\n",
       "      <td>2141</td>\n",
       "    </tr>\n",
       "    <tr>\n",
       "      <th>1</th>\n",
       "      <td>59</td>\n",
       "      <td>20220303183951</td>\n",
       "      <td>20220303183914</td>\n",
       "      <td>MKID017</td>\n",
       "      <td>2141</td>\n",
       "    </tr>\n",
       "    <tr>\n",
       "      <th>2</th>\n",
       "      <td>59</td>\n",
       "      <td>20220303183951</td>\n",
       "      <td>20220303183914</td>\n",
       "      <td>MKID017</td>\n",
       "      <td>2141</td>\n",
       "    </tr>\n",
       "    <tr>\n",
       "      <th>3</th>\n",
       "      <td>59</td>\n",
       "      <td>20220304181433</td>\n",
       "      <td>20220304181525</td>\n",
       "      <td>MKID017</td>\n",
       "      <td>512</td>\n",
       "    </tr>\n",
       "    <tr>\n",
       "      <th>4</th>\n",
       "      <td>59</td>\n",
       "      <td>20220304181433</td>\n",
       "      <td>20220304182447</td>\n",
       "      <td>MKID017</td>\n",
       "      <td>2141</td>\n",
       "    </tr>\n",
       "  </tbody>\n",
       "</table>\n",
       "</div>"
      ],
      "text/plain": [
       "   profile_id           ss_id        log_time act_target_dtl  album_id\n",
       "0          59  20220303183951  20220303183914        MKID017      2141\n",
       "1          59  20220303183951  20220303183914        MKID017      2141\n",
       "2          59  20220303183951  20220303183914        MKID017      2141\n",
       "3          59  20220304181433  20220304181525        MKID017       512\n",
       "4          59  20220304181433  20220304182447        MKID017      2141"
      ]
     },
     "execution_count": 18,
     "metadata": {},
     "output_type": "execute_result"
    }
   ],
   "source": [
    "print(search.shape)\n",
    "search.head()"
   ]
  },
  {
   "cell_type": "markdown",
   "metadata": {},
   "source": [
    "- 검색데이터도 sparse 하다"
   ]
  },
  {
   "cell_type": "code",
   "execution_count": 19,
   "metadata": {},
   "outputs": [
    {
     "name": "stdout",
     "output_type": "stream",
     "text": [
      "(42602, 16)\n"
     ]
    },
    {
     "data": {
      "text/html": [
       "<div>\n",
       "<style scoped>\n",
       "    .dataframe tbody tr th:only-of-type {\n",
       "        vertical-align: middle;\n",
       "    }\n",
       "\n",
       "    .dataframe tbody tr th {\n",
       "        vertical-align: top;\n",
       "    }\n",
       "\n",
       "    .dataframe thead th {\n",
       "        text-align: right;\n",
       "    }\n",
       "</style>\n",
       "<table border=\"1\" class=\"dataframe\">\n",
       "  <thead>\n",
       "    <tr style=\"text-align: right;\">\n",
       "      <th></th>\n",
       "      <th>album_id</th>\n",
       "      <th>title</th>\n",
       "      <th>sub_title</th>\n",
       "      <th>genre_large</th>\n",
       "      <th>genre_mid</th>\n",
       "      <th>genre_small</th>\n",
       "      <th>country</th>\n",
       "      <th>run_time</th>\n",
       "      <th>onair_date</th>\n",
       "      <th>cast_1</th>\n",
       "      <th>cast_2</th>\n",
       "      <th>cast_3</th>\n",
       "      <th>cast_4</th>\n",
       "      <th>cast_5</th>\n",
       "      <th>cast_6</th>\n",
       "      <th>cast_7</th>\n",
       "    </tr>\n",
       "  </thead>\n",
       "  <tbody>\n",
       "    <tr>\n",
       "      <th>0</th>\n",
       "      <td>749</td>\n",
       "      <td>어둠이 무서워요</td>\n",
       "      <td>꼬마버스 타요1</td>\n",
       "      <td>키즈</td>\n",
       "      <td>TV만화</td>\n",
       "      <td>NaN</td>\n",
       "      <td>한국</td>\n",
       "      <td>660</td>\n",
       "      <td>NaN</td>\n",
       "      <td>타요</td>\n",
       "      <td>로기</td>\n",
       "      <td>라니</td>\n",
       "      <td>가니</td>\n",
       "      <td>시투</td>\n",
       "      <td>NaN</td>\n",
       "      <td>NaN</td>\n",
       "    </tr>\n",
       "    <tr>\n",
       "      <th>1</th>\n",
       "      <td>750</td>\n",
       "      <td>우리는 친구</td>\n",
       "      <td>꼬마버스 타요1</td>\n",
       "      <td>키즈</td>\n",
       "      <td>TV만화</td>\n",
       "      <td>NaN</td>\n",
       "      <td>한국</td>\n",
       "      <td>660</td>\n",
       "      <td>NaN</td>\n",
       "      <td>타요</td>\n",
       "      <td>로기</td>\n",
       "      <td>라니</td>\n",
       "      <td>가니</td>\n",
       "      <td>시투</td>\n",
       "      <td>NaN</td>\n",
       "      <td>NaN</td>\n",
       "    </tr>\n",
       "    <tr>\n",
       "      <th>2</th>\n",
       "      <td>2131</td>\n",
       "      <td>타요의 첫 운행</td>\n",
       "      <td>꼬마버스 타요1</td>\n",
       "      <td>키즈</td>\n",
       "      <td>TV만화</td>\n",
       "      <td>NaN</td>\n",
       "      <td>한국</td>\n",
       "      <td>660</td>\n",
       "      <td>NaN</td>\n",
       "      <td>타요</td>\n",
       "      <td>로기</td>\n",
       "      <td>라니</td>\n",
       "      <td>가니</td>\n",
       "      <td>시투</td>\n",
       "      <td>NaN</td>\n",
       "      <td>NaN</td>\n",
       "    </tr>\n",
       "    <tr>\n",
       "      <th>3</th>\n",
       "      <td>2625</td>\n",
       "      <td>길 잃은 타요</td>\n",
       "      <td>꼬마버스 타요1</td>\n",
       "      <td>키즈</td>\n",
       "      <td>TV만화</td>\n",
       "      <td>NaN</td>\n",
       "      <td>한국</td>\n",
       "      <td>660</td>\n",
       "      <td>NaN</td>\n",
       "      <td>타요</td>\n",
       "      <td>로기</td>\n",
       "      <td>라니</td>\n",
       "      <td>가니</td>\n",
       "      <td>시투</td>\n",
       "      <td>NaN</td>\n",
       "      <td>NaN</td>\n",
       "    </tr>\n",
       "    <tr>\n",
       "      <th>4</th>\n",
       "      <td>2594</td>\n",
       "      <td>새내기 꼬마 버스의 하루</td>\n",
       "      <td>꼬마버스 타요1</td>\n",
       "      <td>키즈</td>\n",
       "      <td>TV만화</td>\n",
       "      <td>NaN</td>\n",
       "      <td>한국</td>\n",
       "      <td>660</td>\n",
       "      <td>NaN</td>\n",
       "      <td>타요</td>\n",
       "      <td>로기</td>\n",
       "      <td>라니</td>\n",
       "      <td>가니</td>\n",
       "      <td>시투</td>\n",
       "      <td>NaN</td>\n",
       "      <td>NaN</td>\n",
       "    </tr>\n",
       "  </tbody>\n",
       "</table>\n",
       "</div>"
      ],
      "text/plain": [
       "   album_id          title sub_title genre_large genre_mid genre_small  \\\n",
       "0       749       어둠이 무서워요  꼬마버스 타요1          키즈      TV만화         NaN   \n",
       "1       750         우리는 친구  꼬마버스 타요1          키즈      TV만화         NaN   \n",
       "2      2131       타요의 첫 운행  꼬마버스 타요1          키즈      TV만화         NaN   \n",
       "3      2625        길 잃은 타요  꼬마버스 타요1          키즈      TV만화         NaN   \n",
       "4      2594  새내기 꼬마 버스의 하루  꼬마버스 타요1          키즈      TV만화         NaN   \n",
       "\n",
       "  country  run_time  onair_date cast_1 cast_2 cast_3 cast_4 cast_5 cast_6  \\\n",
       "0      한국       660         NaN     타요     로기     라니     가니     시투    NaN   \n",
       "1      한국       660         NaN     타요     로기     라니     가니     시투    NaN   \n",
       "2      한국       660         NaN     타요     로기     라니     가니     시투    NaN   \n",
       "3      한국       660         NaN     타요     로기     라니     가니     시투    NaN   \n",
       "4      한국       660         NaN     타요     로기     라니     가니     시투    NaN   \n",
       "\n",
       "  cast_7  \n",
       "0    NaN  \n",
       "1    NaN  \n",
       "2    NaN  \n",
       "3    NaN  \n",
       "4    NaN  "
      ]
     },
     "execution_count": 19,
     "metadata": {},
     "output_type": "execute_result"
    }
   ],
   "source": [
    "print(meta.shape)\n",
    "meta.head()"
   ]
  },
  {
   "cell_type": "markdown",
   "metadata": {},
   "source": [
    "- `sub_title`, `genre_(large, mid)` 는 사용할 수 있을듯\n",
    "- `country`도 이용하고 싶은데 NaN이 있음"
   ]
  },
  {
   "cell_type": "code",
   "execution_count": 34,
   "metadata": {},
   "outputs": [
    {
     "name": "stdout",
     "output_type": "stream",
     "text": [
      "<class 'pandas.core.frame.DataFrame'>\n",
      "RangeIndex: 42602 entries, 0 to 42601\n",
      "Data columns (total 16 columns):\n",
      " #   Column       Non-Null Count  Dtype  \n",
      "---  ------       --------------  -----  \n",
      " 0   album_id     42602 non-null  int64  \n",
      " 1   title        42602 non-null  object \n",
      " 2   sub_title    42602 non-null  object \n",
      " 3   genre_large  42602 non-null  object \n",
      " 4   genre_mid    42602 non-null  object \n",
      " 5   genre_small  13419 non-null  object \n",
      " 6   country      33734 non-null  object \n",
      " 7   run_time     42602 non-null  int64  \n",
      " 8   onair_date   5344 non-null   float64\n",
      " 9   cast_1       27603 non-null  object \n",
      " 10  cast_2       22048 non-null  object \n",
      " 11  cast_3       16463 non-null  object \n",
      " 12  cast_4       12485 non-null  object \n",
      " 13  cast_5       6382 non-null   object \n",
      " 14  cast_6       2609 non-null   object \n",
      " 15  cast_7       762 non-null    object \n",
      "dtypes: float64(1), int64(2), object(13)\n",
      "memory usage: 5.2+ MB\n"
     ]
    }
   ],
   "source": [
    "meta.info()"
   ]
  },
  {
   "cell_type": "code",
   "execution_count": 33,
   "metadata": {},
   "outputs": [
    {
     "name": "stdout",
     "output_type": "stream",
     "text": [
      "unique sub_title 수: 2373\n",
      "unique genre_large 수: 6\n",
      "unique genre_mid 수: 29\n",
      "unique n_country 수: 21\n"
     ]
    }
   ],
   "source": [
    "unique_n_sub_title = len(meta['sub_title'].unique())\n",
    "print(f'unique sub_title 수: {unique_n_sub_title}')\n",
    "\n",
    "unique_n_genre_large = len(meta['genre_large'].unique())\n",
    "print(f'unique genre_large 수: {unique_n_genre_large}')\n",
    "\n",
    "unique_n_genre_mid = len(meta['genre_mid'].unique())\n",
    "print(f'unique genre_mid 수: {unique_n_genre_mid}')\n",
    "\n",
    "unique_n_country = len(meta['country'].unique())\n",
    "print(f'unique n_country 수: {unique_n_country}')"
   ]
  },
  {
   "cell_type": "code",
   "execution_count": 20,
   "metadata": {},
   "outputs": [
    {
     "name": "stdout",
     "output_type": "stream",
     "text": [
      "(767948, 4)\n"
     ]
    },
    {
     "data": {
      "text/html": [
       "<div>\n",
       "<style scoped>\n",
       "    .dataframe tbody tr th:only-of-type {\n",
       "        vertical-align: middle;\n",
       "    }\n",
       "\n",
       "    .dataframe tbody tr th {\n",
       "        vertical-align: top;\n",
       "    }\n",
       "\n",
       "    .dataframe thead th {\n",
       "        text-align: right;\n",
       "    }\n",
       "</style>\n",
       "<table border=\"1\" class=\"dataframe\">\n",
       "  <thead>\n",
       "    <tr style=\"text-align: right;\">\n",
       "      <th></th>\n",
       "      <th>album_id</th>\n",
       "      <th>keyword_type</th>\n",
       "      <th>keyword_name</th>\n",
       "      <th>keyword_value</th>\n",
       "    </tr>\n",
       "  </thead>\n",
       "  <tbody>\n",
       "    <tr>\n",
       "      <th>0</th>\n",
       "      <td>749</td>\n",
       "      <td>05010101</td>\n",
       "      <td>시리즈</td>\n",
       "      <td>0</td>\n",
       "    </tr>\n",
       "    <tr>\n",
       "      <th>1</th>\n",
       "      <td>749</td>\n",
       "      <td>05010302</td>\n",
       "      <td>EBS</td>\n",
       "      <td>0</td>\n",
       "    </tr>\n",
       "    <tr>\n",
       "      <th>2</th>\n",
       "      <td>749</td>\n",
       "      <td>05010401</td>\n",
       "      <td>3세</td>\n",
       "      <td>0</td>\n",
       "    </tr>\n",
       "    <tr>\n",
       "      <th>3</th>\n",
       "      <td>749</td>\n",
       "      <td>05010402</td>\n",
       "      <td>4세</td>\n",
       "      <td>0</td>\n",
       "    </tr>\n",
       "    <tr>\n",
       "      <th>4</th>\n",
       "      <td>749</td>\n",
       "      <td>05010407</td>\n",
       "      <td>1세</td>\n",
       "      <td>0</td>\n",
       "    </tr>\n",
       "  </tbody>\n",
       "</table>\n",
       "</div>"
      ],
      "text/plain": [
       "   album_id keyword_type keyword_name  keyword_value\n",
       "0       749     05010101          시리즈              0\n",
       "1       749     05010302          EBS              0\n",
       "2       749     05010401           3세              0\n",
       "3       749     05010402           4세              0\n",
       "4       749     05010407           1세              0"
      ]
     },
     "execution_count": 20,
     "metadata": {},
     "output_type": "execute_result"
    }
   ],
   "source": [
    "print(meta_plus.shape)\n",
    "meta_plus.head()"
   ]
  },
  {
   "cell_type": "code",
   "execution_count": 21,
   "metadata": {},
   "outputs": [
    {
     "name": "stdout",
     "output_type": "stream",
     "text": [
      "(8311, 9)\n"
     ]
    },
    {
     "data": {
      "text/html": [
       "<div>\n",
       "<style scoped>\n",
       "    .dataframe tbody tr th:only-of-type {\n",
       "        vertical-align: middle;\n",
       "    }\n",
       "\n",
       "    .dataframe tbody tr th {\n",
       "        vertical-align: top;\n",
       "    }\n",
       "\n",
       "    .dataframe thead th {\n",
       "        text-align: right;\n",
       "    }\n",
       "</style>\n",
       "<table border=\"1\" class=\"dataframe\">\n",
       "  <thead>\n",
       "    <tr style=\"text-align: right;\">\n",
       "      <th></th>\n",
       "      <th>profile_id</th>\n",
       "      <th>sex</th>\n",
       "      <th>age</th>\n",
       "      <th>pr_interest_keyword_cd_1</th>\n",
       "      <th>pr_interest_keyword_cd_2</th>\n",
       "      <th>pr_interest_keyword_cd_3</th>\n",
       "      <th>ch_interest_keyword_cd_1</th>\n",
       "      <th>ch_interest_keyword_cd_2</th>\n",
       "      <th>ch_interest_keyword_cd_3</th>\n",
       "    </tr>\n",
       "  </thead>\n",
       "  <tbody>\n",
       "    <tr>\n",
       "      <th>0</th>\n",
       "      <td>3</td>\n",
       "      <td>F</td>\n",
       "      <td>5</td>\n",
       "      <td>P02</td>\n",
       "      <td>P04</td>\n",
       "      <td>P07</td>\n",
       "      <td>K01</td>\n",
       "      <td>K03</td>\n",
       "      <td>K04</td>\n",
       "    </tr>\n",
       "    <tr>\n",
       "      <th>1</th>\n",
       "      <td>5</td>\n",
       "      <td>M</td>\n",
       "      <td>5</td>\n",
       "      <td>P07</td>\n",
       "      <td>P08</td>\n",
       "      <td>P06</td>\n",
       "      <td>K05</td>\n",
       "      <td>K08</td>\n",
       "      <td>K09</td>\n",
       "    </tr>\n",
       "    <tr>\n",
       "      <th>2</th>\n",
       "      <td>7</td>\n",
       "      <td>F</td>\n",
       "      <td>9</td>\n",
       "      <td>P05</td>\n",
       "      <td>P03</td>\n",
       "      <td>NaN</td>\n",
       "      <td>K06</td>\n",
       "      <td>K04</td>\n",
       "      <td>NaN</td>\n",
       "    </tr>\n",
       "    <tr>\n",
       "      <th>3</th>\n",
       "      <td>12</td>\n",
       "      <td>M</td>\n",
       "      <td>6</td>\n",
       "      <td>P03</td>\n",
       "      <td>P06</td>\n",
       "      <td>P02</td>\n",
       "      <td>K09</td>\n",
       "      <td>K07</td>\n",
       "      <td>K03</td>\n",
       "    </tr>\n",
       "    <tr>\n",
       "      <th>4</th>\n",
       "      <td>16</td>\n",
       "      <td>F</td>\n",
       "      <td>12</td>\n",
       "      <td>P03</td>\n",
       "      <td>P06</td>\n",
       "      <td>P01</td>\n",
       "      <td>K01</td>\n",
       "      <td>K06</td>\n",
       "      <td>K04</td>\n",
       "    </tr>\n",
       "  </tbody>\n",
       "</table>\n",
       "</div>"
      ],
      "text/plain": [
       "   profile_id sex  age pr_interest_keyword_cd_1 pr_interest_keyword_cd_2  \\\n",
       "0           3   F    5                      P02                      P04   \n",
       "1           5   M    5                      P07                      P08   \n",
       "2           7   F    9                      P05                      P03   \n",
       "3          12   M    6                      P03                      P06   \n",
       "4          16   F   12                      P03                      P06   \n",
       "\n",
       "  pr_interest_keyword_cd_3 ch_interest_keyword_cd_1 ch_interest_keyword_cd_2  \\\n",
       "0                      P07                      K01                      K03   \n",
       "1                      P06                      K05                      K08   \n",
       "2                      NaN                      K06                      K04   \n",
       "3                      P02                      K09                      K07   \n",
       "4                      P01                      K01                      K06   \n",
       "\n",
       "  ch_interest_keyword_cd_3  \n",
       "0                      K04  \n",
       "1                      K09  \n",
       "2                      NaN  \n",
       "3                      K03  \n",
       "4                      K04  "
      ]
     },
     "execution_count": 21,
     "metadata": {},
     "output_type": "execute_result"
    }
   ],
   "source": [
    "print(profile.shape)\n",
    "profile.head()"
   ]
  },
  {
   "cell_type": "code",
   "execution_count": 35,
   "metadata": {},
   "outputs": [
    {
     "name": "stdout",
     "output_type": "stream",
     "text": [
      "<class 'pandas.core.frame.DataFrame'>\n",
      "RangeIndex: 8311 entries, 0 to 8310\n",
      "Data columns (total 9 columns):\n",
      " #   Column                    Non-Null Count  Dtype \n",
      "---  ------                    --------------  ----- \n",
      " 0   profile_id                8311 non-null   int64 \n",
      " 1   sex                       8311 non-null   object\n",
      " 2   age                       8311 non-null   int64 \n",
      " 3   pr_interest_keyword_cd_1  8311 non-null   object\n",
      " 4   pr_interest_keyword_cd_2  6778 non-null   object\n",
      " 5   pr_interest_keyword_cd_3  6231 non-null   object\n",
      " 6   ch_interest_keyword_cd_1  8311 non-null   object\n",
      " 7   ch_interest_keyword_cd_2  6618 non-null   object\n",
      " 8   ch_interest_keyword_cd_3  6029 non-null   object\n",
      "dtypes: int64(2), object(7)\n",
      "memory usage: 584.5+ KB\n"
     ]
    }
   ],
   "source": [
    "profile.info()"
   ]
  },
  {
   "cell_type": "markdown",
   "metadata": {},
   "source": [
    "- profile 데이터는 전부 사용가능 할 듯\n",
    "- NaN인 키워드를 어떻게 처리할지만 고민하면 될 듯"
   ]
  }
 ],
 "metadata": {
  "kernelspec": {
   "display_name": "Python 3.9.13 64-bit ('nlp')",
   "language": "python",
   "name": "python3"
  },
  "language_info": {
   "codemirror_mode": {
    "name": "ipython",
    "version": 3
   },
   "file_extension": ".py",
   "mimetype": "text/x-python",
   "name": "python",
   "nbconvert_exporter": "python",
   "pygments_lexer": "ipython3",
   "version": "3.9.13"
  },
  "orig_nbformat": 4,
  "vscode": {
   "interpreter": {
    "hash": "8c68d4e82246607c407fe48e8ea8c83604bff69a3864f23665571bb2eafd238d"
   }
  }
 },
 "nbformat": 4,
 "nbformat_minor": 2
}
